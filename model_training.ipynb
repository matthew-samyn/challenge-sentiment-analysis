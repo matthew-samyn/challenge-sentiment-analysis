{
 "cells": [
  {
   "cell_type": "code",
   "execution_count": 162,
   "outputs": [],
   "source": [
    "import regex as re\n",
    "import pandas as pd\n",
    "from textblob import TextBlob\n",
    "from emoji_translate.emoji_translate import Translator\n",
    "from typing import Tuple\n",
    "import plotly.express as px\n",
    "import seaborn as sns\n",
    "import matplotlib.pyplot as plt"
   ],
   "metadata": {
    "collapsed": false,
    "pycharm": {
     "name": "#%%\n"
    }
   }
  },
  {
   "cell_type": "code",
   "execution_count": 163,
   "outputs": [],
   "source": [
    "def preprocess_tweet(tweet):\n",
    "    \"\"\" Function used for a first preprocessing step. \"\"\"\n",
    "    hashtag = re.compile(r\"^#\\S+|\\s#\\S+\")\n",
    "    at_someone = re.compile(r\"^@\\S+|\\s@\\S+\")\n",
    "    url = re.compile(r\"https?://\\S+\")\n",
    "    tweet_without_hashtag = hashtag.sub(' ', tweet)\n",
    "    tweet_without_at_and_hashtag = at_someone.sub(' person', tweet_without_hashtag)\n",
    "    cleaned_text = url.sub(\" fan\", tweet_without_at_and_hashtag)\n",
    "\n",
    "    cleaned_text_lower = cleaned_text.strip().lower()\n",
    "    cleaned_text_lower_splitted = cleaned_text_lower.split()\n",
    "    if cleaned_text_lower_splitted == \"rt\":\n",
    "        cleaned_text_lower = \" \".join(cleaned_text_lower_splitted[1:])\n",
    "\n",
    "    emo = Translator(exact_match_only=False)\n",
    "    cleaned_text_lower_emojiless = emo.demojify(cleaned_text_lower)\n",
    "\n",
    "    clean_text = TextBlob(cleaned_text_lower_emojiless).correct()\n",
    "    return str(clean_text)\n",
    "\n",
    "def get_tweet_sentiment(tweet):\n",
    "    # create TextBlob object of tweet text\n",
    "    analysis = TextBlob(tweet)\n",
    "    return analysis.polarity\n",
    "\n",
    "def print_return_sentiments(df_tweet_column: pd.Series) -> Tuple:\n",
    "    cleaned_tweets = []\n",
    "    sentiment_lst = []\n",
    "    for tweet in df_tweet_column:\n",
    "        cleaned_tweet = preprocess_tweet(tweet)\n",
    "        cleaned_tweets.append(cleaned_tweet)\n",
    "        sentiment = get_tweet_sentiment(cleaned_tweet)\n",
    "\n",
    "        print(tweet)\n",
    "        if sentiment > 0:\n",
    "            sentiment_lst.append(\"Positive\")\n",
    "            print(\"Positive tweet\")\n",
    "        elif sentiment < 0:\n",
    "            sentiment_lst.append(\"Negative\")\n",
    "            print(\"Negative tweet\")\n",
    "        else:\n",
    "            sentiment_lst.append(\"Neutral\")\n",
    "            print(\"Neutral tweet\")\n",
    "    return sentiment_lst, cleaned_tweets\n",
    "\n",
    "def show_sentiment_distribution(df_sentiment_column: pd.Series):\n",
    "    sentiment_df = df_sentiment_column.value_counts().to_frame().reset_index()\n",
    "    sentiment_df.columns = [\"sentiment\",\"count\"]\n",
    "    fig = px.pie(sentiment_df, names=\"sentiment\", values=\"count\",\n",
    "                 hole=.3)\n",
    "    fig.show()"
   ],
   "metadata": {
    "collapsed": false,
    "pycharm": {
     "name": "#%%\n"
    }
   }
  },
  {
   "cell_type": "code",
   "execution_count": 164,
   "outputs": [],
   "source": [
    "df = pd.read_csv(\"files/brooklyn99.csv\",parse_dates=[\"created_at\"])"
   ],
   "metadata": {
    "collapsed": false,
    "pycharm": {
     "name": "#%%\n"
    }
   }
  },
  {
   "cell_type": "code",
   "execution_count": 165,
   "outputs": [
    {
     "name": "stdout",
     "output_type": "stream",
     "text": [
      "@nbcbrooklyn99 All of these are wrong unless they end in “I love you”\n",
      "Neutral tweet\n",
      "RT @9drink_amy: @nbcbrooklyn99 How to find the best ‘stume for Halloween without everyone laughing at you?\n",
      "Positive tweet\n",
      "@nbcbrooklyn99 \"How to retrieve my sperms from the sperm bank without letting my ex wife know\"\n",
      "Neutral tweet\n",
      "@CorridorDigital quite funny how @nbcbrooklyn99 left a green glove to be rotoscoped, so much more work than just ha… https://t.co/qd4rSAHEhq\n",
      "Positive tweet\n",
      "@nbcbrooklyn99 Mervyn's clothing store near me\n",
      "Positive tweet\n",
      "where can i buy a jake peralta? i am ready to sell my kidney @nbcbrooklyn99\n",
      "Positive tweet\n",
      "@nbcbrooklyn99 How to make your best friend not have any other friends/best friend?\n",
      "Positive tweet\n",
      "WAIT! @EugeneLeeYang was in @nbcbrooklyn99??? How did I not know that? https://t.co/lQCK02nh6y\n",
      "Neutral tweet\n",
      "@nbcbrooklyn99 Jake paralta  Charles Boyle Best Friend\n",
      "Positive tweet\n",
      "@melsperalta @nbcbrooklyn99 @melissafumero Omg thank you 😭❤️\n",
      "Neutral tweet\n",
      "@hedair01 @nbcbrooklyn99 @melissafumero Thank you!!!\n",
      "Neutral tweet\n",
      "@josieeeea @nbcbrooklyn99 @melissafumero The talent, omg 😍🥺\n",
      "Neutral tweet\n",
      "@nbcbrooklyn99 \"Is domain Bone Bro taken?\"\n",
      "Neutral tweet\n",
      "This one has hooked me since the first episode.. One will ROFL all through the episode.. Loving all the characters.… https://t.co/fBZJKn5GKQ\n",
      "Positive tweet\n",
      "RT @amesfavss: @nbcbrooklyn99 THEY'VE COME SO FAR😭\n",
      "https://t.co/8dRJH1qQkX\n",
      "Neutral tweet\n",
      "@helen_ngoc @nbcbrooklyn99 I’ve seen clips of the suspect line up singing Backstreet Boys, does that count? lol\n",
      "Neutral tweet\n",
      "@dslifton @nbcbrooklyn99 I honestly can’t think of many other shows that ran this long where it still feels like it… https://t.co/84m5ZQcRRY\n",
      "Positive tweet\n",
      "@nbcbrooklyn99 season 8 on @Netflix_PH pls 🥲\n",
      "Neutral tweet\n",
      "@nbcbrooklyn99 where to find illegal exotic meat in America\n",
      "Neutral tweet\n",
      "Haven’t been able to bring myself to watch the @nbcbrooklyn99 finale until now. This might be rough. 😔\n",
      "Positive tweet\n",
      "@nbcbrooklyn99 HELP, I think my best friend might be cheating on me!\n",
      "Positive tweet\n",
      "@nbcbrooklyn99 Where to buy the ms Pac-Man original\n",
      "Positive tweet\n",
      "@nbcbrooklyn99 the best dressings to serve with frog legs\n",
      "Positive tweet\n",
      "@nbcbrooklyn99 Bulk Order Lamb Ear Canals\n",
      "Neutral tweet\n",
      "RT @nbcbrooklyn99: The #Brooklyn99 cast always knows their lines. But do they know their codes? https://t.co/xwYyrOwVlH\n",
      "Neutral tweet\n",
      "RT @nbcbrooklyn99: \"I promise I won't cry. It's just a single frame from a tv show.\"\n",
      "\n",
      "The single frame: https://t.co/Yv1aImoXtE\n",
      "Negative tweet\n",
      "@nbcbrooklyn99 Quality bat meat\n",
      "Neutral tweet\n",
      "RT @nbcbrooklyn99: Thinking about how Jake Peralta is the master of surprises. #Brooklyn99 https://t.co/GKrYQKSper\n",
      "Neutral tweet\n",
      "@nbcbrooklyn99 I NEED those PB&amp;J Rings!\n",
      "Neutral tweet\n",
      "@nbcbrooklyn99 Who is the true Boyle?\n",
      "Positive tweet\n",
      "@helen_ngoc @nbcbrooklyn99 Oops\n",
      "Neutral tweet\n",
      "@nbcbrooklyn99 Pimento, Boyle, and Scully\n",
      "Neutral tweet\n",
      "@nbcbrooklyn99 Best friends playlist for a stakeout\n",
      "Positive tweet\n",
      "@nbcbrooklyn99 Best designs for  STDs\n",
      "Positive tweet\n",
      "Just finished @nbcbrooklyn99. So many laughs watching this all star cast. Recommend to anyone looking for a show to watch.\n",
      "Positive tweet\n",
      "@9drink_amy @nbcbrooklyn99 This one 😂\n",
      "Positive tweet\n",
      "RT @9drink_amy: @nbcbrooklyn99 How do I make sure my best friend isn’t meeting new friends?\n",
      "Positive tweet\n",
      "finally caught up on finishing @nbcbrooklyn99 and MY HEART. that end scene with holt and jake!!\n",
      "Neutral tweet\n",
      "@gloomyklaus @nbcbrooklyn99 Most sensual way to wash a lover's hair\n",
      "Positive tweet\n",
      "“Never seen an episode of @nbcbrooklyn99\"🚩🚩🚩🚩🚩\n",
      "Neutral tweet\n",
      "@nbcbrooklyn99 Spin-off, Brooklyn (the zip code where Jake and Amy live). A show about two part-time cops, their ki… https://t.co/nwxQg7DinV\n",
      "Positive tweet\n",
      "RT @KalainH: Very few shows bring me as much joy as @nbcbrooklyn99\n",
      "Positive tweet\n",
      "@nbcbrooklyn99 I knew it was coming. I knew one day the 99 would come to end, just still can’t believe it was soo s… https://t.co/gzQ4gjPQCp\n",
      "Neutral tweet\n",
      "@nbcbrooklyn99 Just realized that I’m watching the last season…😡😡😡😡\n",
      "Neutral tweet\n",
      "@nbcbrooklyn99 how to make desk yogurt\n",
      "Neutral tweet\n",
      "@nbcbrooklyn99 mentioning @CrissAngel in Season 8, episode 5!  Love it !  ❤️ https://t.co/RcVGm7Df5G\n",
      "Positive tweet\n",
      "@bellabasciani @nbcbrooklyn99 Lolol that’s hilariously\n",
      "Positive tweet\n",
      "RT @bellabasciani: @nbcbrooklyn99 how to get your best friend who is married with a baby to move in with me\n",
      "Positive tweet\n",
      "@josieeeea @nbcbrooklyn99 @melissafumero I LOVE IT SM BESTIE\n",
      "Positive tweet\n",
      "@nbcbrooklyn99 best times to buy bruce willis\n",
      "Positive tweet\n",
      "RT @nbcbrooklyn99: The next time someone asks what you're listening to, tell them it's this iconic Jake Peralta song. https://t.co/zaS1gnIN…\n",
      "Positive tweet\n",
      "@nbcbrooklyn99 Where do I buy rice cakes\n",
      "Neutral tweet\n",
      "@nbcbrooklyn99 Best gift ideas to get my lover sister’s new baby (not mine).\n",
      "Positive tweet\n",
      "Finally got around to watching the end of @nbcbrooklyn99... What a perfect ending to a perfect series. Thank you to… https://t.co/BLLfMnLSMd\n",
      "Positive tweet\n",
      "@nayasmarina @nbcbrooklyn99 @melissafumero Thank you so much Chloe!! 😭❤️\n",
      "Positive tweet\n",
      "@josieeeea @nbcbrooklyn99 @melissafumero Josie this is insane!! You’re so so talented\n",
      "Negative tweet\n",
      "RT @nbcbrooklyn99: Holt's a no-frills kind of guy. https://t.co/YJZLsEnpWw\n",
      "Positive tweet\n",
      "@Maeganld214 @nbcbrooklyn99 @melissafumero Thank you so much!! 🥰\n",
      "Positive tweet\n",
      "@josieeeea @nbcbrooklyn99 @melissafumero Omg I love this so so much!!\n",
      "Positive tweet\n",
      "@jenna3297 @nbcbrooklyn99 @melissafumero Thank you Jenna!! ❤️❤️\n",
      "Neutral tweet\n",
      "@josieeeea @nbcbrooklyn99 @melissafumero THIS IS INCREDIBLE!! @nbcbrooklyn99 and @melissafumero !!!!\n",
      "Positive tweet\n",
      "Don’t really think anyone cares, but I’d like to let @AndySamberg / @thelonelyisland and the @nbcbrooklyn99 crew kn… https://t.co/SkwjoVAXt1\n",
      "Positive tweet\n",
      "#PERALTIAGO: there’s a typo in this crossword puzzle 🔍🤍\n",
      "\n",
      "It’s been a long time coming, but I’ve finally made a star… https://t.co/lNrDUq0bdx\n",
      "Negative tweet\n",
      "@nbcbrooklyn99 “How do I wash a woman’s hair the best way?”\n",
      "Positive tweet\n",
      "@nbcbrooklyn99 How to wear purple without being called Mr. Grapes\n",
      "Neutral tweet\n",
      "@nbcbrooklyn99 How to Become the one true Boyle\n",
      "Positive tweet\n",
      "@nbcbrooklyn99 UNCLE CHICHI SUPREMACY\n",
      "Neutral tweet\n",
      "@nbcbrooklyn99 How to get my best friend to not be best friends with other people\n",
      "Positive tweet\n",
      "@NicklessMaddy @nbcbrooklyn99 Winner!!!\n",
      "Neutral tweet\n",
      "@amesitcoms @nbcbrooklyn99 THANK UU &lt;3\n",
      "Neutral tweet\n",
      "@nbcbrooklyn99 how to make your son stop drinking milk.\n",
      "Neutral tweet\n",
      "RT @EraIsArt: Mister Mouse protects brooklyn \n",
      ".\n",
      ".\n",
      ".\n",
      ".\n",
      ".\n",
      "#eraisart \n",
      "#mistermouse #mouse  #artwork #posca #marker #markerart #colors #sketch…\n",
      "Neutral tweet\n",
      "@cricketaakash Terry loves love.\n",
      "\n",
      "#Brooklynninenine \n",
      "#Brooklyn99 \n",
      "@terrycrews\n",
      "Positive tweet\n",
      "Remember captain holts posters from Season 3 ep3 well they are still up in the background of Season 6 ep14… https://t.co/CZmtMCrXY0\n",
      "Neutral tweet\n",
      "Mister Mouse protects brooklyn \n",
      ".\n",
      ".\n",
      ".\n",
      ".\n",
      ".\n",
      "#eraisart \n",
      "#mistermouse #mouse  #artwork #posca #marker #markerart… https://t.co/cdTVcGIkXN\n",
      "Neutral tweet\n",
      "CS: The Dussehra post is approved by the brand, now you can schedule it.\n",
      "\n",
      "Me: \n",
      "\n",
      "#AgencyLife #Brooklyn99 https://t.co/8QCriOgMI0\n",
      "Neutral tweet\n",
      "The way they walk all over terry &gt;&gt;&gt; #Brooklyn99\n",
      "Neutral tweet\n",
      "RT @rhymesandproses: Why are sitcom ships so freaking perfect and adorable😭\n",
      "I could never move on from Mondler and now Jake and Amy😭❤️\n",
      "They…\n",
      "Positive tweet\n",
      "Lookin forward to rewatching #Brooklyn99 captain holt is everything\n",
      "Neutral tweet\n",
      "A daughter can be your bestie too… common likes for #srh #csk #ManCity #KDB #Donuts @thejordindian #Brooklyn99… https://t.co/wgMrXZcj4B\n",
      "Positive tweet\n",
      "#Brooklyn99 • #BrooklynNineNine • #Peraltiago\n",
      "\n",
      "－ No matter what happens, you are not allowed to fall in love with m… https://t.co/jlLOhU7VCL\n",
      "Positive tweet\n",
      "RT @JoelMcKMiller: Love this piece. So many bits from different episodes. Check out @pothepigeon on Instagram. #FANART #FanArtFriday #Brook…\n",
      "Positive tweet\n",
      "AND SCENE! 👏👏 I did it! I finally finished\n",
      "\n",
      "Noice\n",
      "\n",
      " #brooklynninenine #Brooklyn99 https://t.co/W8wthIzLsW\n",
      "Neutral tweet\n",
      "Acabo de ver el episodio S01 | E03 of Brooklyn Nine-Nine! #Brooklyn99  https://t.co/MksZDEJCnD #tvtime https://t.co/s6iODwMvRw\n",
      "Neutral tweet\n",
      "Acabo de ver el episodio S01 | E02 of Brooklyn Nine-Nine! #Brooklyn99  https://t.co/tYVo6wSPcp #tvtime https://t.co/w759xa9pS2\n",
      "Neutral tweet\n",
      "Imagine naming your child Enigma (IGGY for short) #Brooklyn99\n",
      "Positive tweet\n",
      "RT @AndreBraugher: Holt’s got some moves! 👏🏾👏🏾 #Brooklyn99 https://t.co/c4rDUbMKxu\n",
      "Negative tweet\n",
      "Jake Peralta and Amy Santiago #Peraltiago #Brooklyn99 https://t.co/8ePzZqNza2\n",
      "Neutral tweet\n",
      "RT @peralperts: #Brooklyn99 (season 8) once screamed... https://t.co/cSUX1WFV7y\n",
      "Positive tweet\n",
      "I AM NOT CRYING, YOU ARE CRYING #Brooklyn99 https://t.co/ll9fcgIzne\n",
      "Negative tweet\n",
      "RT @mythicalzanskaz: #AMYSANTIAGO #Brooklyn99 you'll always have a place in our hearts💜 https://t.co/AtQ8r56RZ4\n",
      "Neutral tweet\n",
      "I NEED A B99 SPECIAL ON THE CONCLUSION OF NUTRIBOOM #Brooklyn99\n",
      "Positive tweet\n",
      "Just finished the last episode of #Brooklyn99 and it brought back all the old stuff just perfectly. A really nice e… https://t.co/9mn6EhE1L9\n",
      "Positive tweet\n",
      "Assisti ao S07 | E13 de Brooklyn Nine-Nine! #Brooklyn99  https://t.co/kVjjl8a5wa #tvtime https://t.co/olvv7Byj38\n",
      "Neutral tweet\n",
      "Andy and Melissa on Jake&amp;Amy’s wedding \n",
      "#Brooklyn99 https://t.co/a6Ob3qx3uX\n",
      "Neutral tweet\n",
      "RT @intheheiqhts: #Brooklyn99: long live all the magic we made  https://t.co/RCTZI6SrMA\n",
      "Positive tweet\n",
      "Omg omg omg omg I love them so much. #Brooklyn99 https://t.co/ZpZS3er1NT\n",
      "Positive tweet\n",
      "New Proxmark3 Develop Suit Kits Pm3 Rfid Reader Writer For Nfc Card Copier Clone Crack Main Chip 512k\n",
      "\n",
      "Get the prod… https://t.co/YW6SOoVbyg\n",
      "Positive tweet\n",
      "Check out justchillwithpam's video! #TikTok https://t.co/BWEeWNQMnr \n",
      "\n",
      "#Brooklyn99 #NewYork\n",
      "Neutral tweet\n",
      "Not too sure if i enjoyed or hated the last episode of #Brooklyn99 @nbcbrooklyn99 😬\n",
      "Positive tweet\n",
      "BREAKING..#Brooklyn #Nets announce #NBA Star Kyrie Irving won't be allowed to play or practice with the team until… https://t.co/SCudrZfc9H\n",
      "Neutral tweet\n",
      "Had a crazy idea to turn the finale storyline of “Jake falls into a coma for 7 years” into a Romantic Movie Trailer… https://t.co/9b0Vwrnf0x\n",
      "Negative tweet\n",
      "RT @nbcbrooklyn99: 🚨 SPOILER ALERT! 🚨\n",
      "33 years ago, in a precinct close, close by... \n",
      "#Brooklyn99 https://t.co/eWTq4QW1E7\n",
      "Positive tweet\n",
      "Amy double tuck her hair for Detective Peralta. 😭🥺 #Brooklyn99\n",
      "Neutral tweet\n",
      "I just finished all seasons of #Brooklyn99 🥲 and i’ll probably feel lost the next few days without having anything to watch 🤧\n",
      "Negative tweet\n",
      "Why are sitcom ships so freaking perfect and adorable😭\n",
      "I could never move on from Mondler and now Jake and Amy😭❤️\n",
      "T… https://t.co/baJ0ekPE9s\n",
      "Positive tweet\n",
      "RT @rhymesandproses: Melissa Fumero as Amy Santiago has a piece of my heart❤️😭\n",
      "\n",
      "She is so adorable!!\n",
      "#Brooklyn99 https://t.co/rGGNTH818H\n",
      "Positive tweet\n",
      "Does #Brooklyn99 deserve a spot amongst the TV shows above?\n",
      "Neutral tweet\n",
      "Melissa Fumero as Amy Santiago has a piece of my heart❤️😭\n",
      "\n",
      "She is so adorable!!\n",
      "#Brooklyn99 https://t.co/rGGNTH818H\n",
      "Positive tweet\n",
      "@nbcbrooklyn99 Every episode in the final season made me smile &amp; laugh &amp; weep. I love the nine-nine. NINE NINE! #Brooklyn99\n",
      "Positive tweet\n",
      "Rosa is such a well written sitcom character with so many diverging layers and I totally enjoy every shade of her!… https://t.co/o1nY9BT6Lh\n",
      "Positive tweet\n",
      "Yeah yeah, I'm late, as always. But that finale season of #Brooklyn99 was great. It's not always easy to stick the… https://t.co/5wjRhujag5\n",
      "Positive tweet\n",
      "RT @nbcbrooklyn99: Here's a helping of #Brooklyn99 Season 2 bloopers to start your week off right. https://t.co/QxMtADAPoQ\n",
      "Positive tweet\n",
      "The last season of #Brooklyn99 started off very heavy and landed on an emotional (and super fun) finale\n",
      "Positive tweet\n",
      "A perfect heist winner! \n",
      "I wish there could have been another ten more episodes to end this great show!\n",
      "A Spin-off… https://t.co/8B0BRhkORZ\n",
      "Positive tweet\n",
      "RT @OLXAutosIndia: Mood after selling to #OLXAutos for the Best Price🚗🤑\n",
      "#B99 #TuesdayFeeling \n",
      "#Brooklyn99 #terry https://t.co/BVZHFyoeLb\n",
      "Positive tweet\n",
      "Mood after selling to #OLXAutos for the Best Price🚗🤑\n",
      "#B99 #TuesdayFeeling \n",
      "#Brooklyn99 #terry https://t.co/BVZHFyoeLb\n",
      "Positive tweet\n",
      "RT @archivefumero: “honestly it’s kind of hard to articulate what #brooklyn99 has meant to me because it’s changed my life” 🤧 https://t.co/…\n",
      "Positive tweet\n",
      "Finally convinced myself to watch the last episode of #Brooklyn99 …🥲\n",
      "Neutral tweet\n",
      "Holt and Kevin split up 💔 I don't like this season so far\n",
      "#b99 #BrooklynNineNine #Brooklyn99\n",
      "Negative tweet\n",
      "#Brooklyn99  ENDING IS DEPRESSING AF.\n",
      "Negative tweet\n",
      "What, Rosa quit the force 😱😱😱😱😱\n",
      "#b99 #BrooklynNineNine #Brooklyn99\n",
      "Neutral tweet\n",
      "Of the last #Brooklyn99 season**\n",
      "Neutral tweet\n",
      "They forgot to edit out Pappy Boyle's hand in episode 8 of the last #Brooklyn99 episode https://t.co/HQUTIzSuFu\n",
      "Positive tweet\n",
      "RT @peraltasdecker: no thoughts just holt doing the wap dance! 🤣 #Brooklyn99 \n",
      " https://t.co/qQtCvhPBm9\n",
      "Neutral tweet\n",
      "Terry crews was definitely replaceable in #Brooklyn99\n",
      "Neutral tweet\n",
      "gina linetti phoebe buffay Friends b99 Brooklyn nine-nine season 1 2 3 4 5 6 7 8 #FriendsReunion #Brooklyn99… https://t.co/yTlldCa7jW\n",
      "Neutral tweet\n",
      "Holt and emojis 😂😂 #BrooklynNineNine #CaptainHolt https://t.co/y7eitUf6P7\n",
      "Neutral tweet\n",
      "RT @AACTA: Calling all TV buffs! #SeriesMania begins tomorrow 🎉 The four-day, online event will give you insights from creatives behind sho…\n",
      "Positive tweet\n",
      "Calling all TV buffs! #SeriesMania begins tomorrow 🎉 The four-day, online event will give you insights from creativ… https://t.co/KOkpFsPTi3\n",
      "Neutral tweet\n",
      "😂 @KyrieIrving dumbass. As a @warriors fan I love that this idiot is not playing! Please don’t get vaccinated so we… https://t.co/5SWYjzFvXF\n",
      "Positive tweet\n",
      "RT @Thanos_Pagkidis: Weigh\n",
      "\n",
      "#Persona3Portable #P3P #BrooklynNineNine https://t.co/jQjmRBKbVc\n",
      "Neutral tweet\n",
      "@Rajmeetsingh14 Melanie Hawkins!? Is that a #Brooklynninenine reference lol\n",
      "Neutral tweet\n",
      "Brooklyn Nine Nine - I have just completed this room! Check it out:  https://t.co/X8eneTUCPV #tryhackme #security… https://t.co/b5BSqZ2z6X\n",
      "Neutral tweet\n",
      "I miss #BrooklynNineNine  🥲🥲🥲\n",
      "Neutral tweet\n",
      "Doing something different for my #Halloween episode this year: Which #BrooklynNineNine heist is your favorite?… https://t.co/T3GwsQcvJT\n",
      "Neutral tweet\n",
      "My favorite Jake Peralta bit is him purchasing the failing @therock crypto and the @TMNT NFT of Michelangelo eating… https://t.co/iKMtxo1OTO\n",
      "Positive tweet\n",
      "These days mood! #Brooklyn99 #BrooklynNineNine #jakeperalta https://t.co/pahUXNIoRa\n",
      "Neutral tweet\n",
      "#TVSeries #Week2 #BrooklynNineNine is a fun TV series which can be witty, beautiful, short episode series. Had to s… https://t.co/Oqbc8luiTg\n",
      "Positive tweet\n",
      "RT @ItzKrrish_: 148. #BrooklynNineNine \n",
      "\n",
      "STRESSBUSTER 💯\n",
      "\n",
      "Fun fully loaded. One of the best comedy show! https://t.co/kSflMhF8h8\n",
      "Positive tweet\n",
      "This motivation definitely helps us to have a good start to the week! \n",
      "\n",
      "#Brooklyn99 #Brooklynninenine #Brooklyn… https://t.co/u7PxbUfaoW\n",
      "Positive tweet\n",
      "Under the general umbrella of moderation lies its types. Here is a reminder to moderate today and keep your communi… https://t.co/9Nce0BHA4P\n",
      "Positive tweet\n",
      "@melissafumero this cracked me up. #brooklynninenine https://t.co/oQn4Rm6rY4\n",
      "Neutral tweet\n",
      "After holding up for a couplemof months, I finally watched the final episodes of #Brooklyn99 and, boy, I wasn't rea… https://t.co/mBuP8yXIKj\n",
      "Neutral tweet\n",
      "RT @SHIELDZephyrOne: #Top10 Most Iconic #Numbers in #PopCulture by @WatchMojo #Movies #TVShows #90210BeverlyHills #BacktotheFuture #Brookly…\n",
      "Positive tweet\n",
      "All my ❤️\n",
      "Always makes me cry-this scene!  @nbcbrooklyn99 😭😭😭\n",
      "\n",
      "#Brooklyn99 #Brooklynninenine https://t.co/TIeVZ6icUl\n",
      "Neutral tweet\n",
      "#Top10 Most Iconic #Numbers in #PopCulture by @WatchMojo #Movies #TVShows #90210BeverlyHills #BacktotheFuture… https://t.co/uKuHIempTB\n",
      "Positive tweet\n",
      "Ok listen to me when I tell you that the best show I’ve ever seen is #BrooklynNineNine !!!\n",
      "Positive tweet\n",
      "Nothing hurts more than ending for favourite series . NINE - NINE 😭🥲\n",
      "#Brooklynninenine\n",
      "Positive tweet\n",
      "just watched season 8 episode 1 of #Brooklyn99 #BrooklynNineNine and it's sooooo depressing and heartbreaking. i'm… https://t.co/ZEcnsPgz5p\n",
      "Negative tweet\n",
      "BROOKLYN NEW YORK - Weekend Getaway  Vlog = https://t.co/wUIfwDU1hp\n",
      "\n",
      "#Brooklyn99 #BrooklynNineNine #BrooklynTogether\n",
      "Positive tweet\n",
      "I'm about to watch #BrooklynNineNine during the second half probably\n",
      "Negative tweet\n",
      "I started another rewatch of #BrooklynNineNine  and this was an emotional one considering it ended  and I have no m… https://t.co/UTAfylqsTB\n",
      "Neutral tweet\n",
      "RT @B_Jon_26: Raymond Holt - Brooklyn 99\n",
      "\n",
      "Fanart from the amazing series Brooklyn 99, Ray Holt is one of my favorite characters.\n",
      "\n",
      "#Brooklyn…\n",
      "Positive tweet\n",
      "I love clueless, childish characters way too much like Jake from #BrooklynNineNine, Troy from #community, Phil and… https://t.co/qqYcp5iEKg\n",
      "Neutral tweet\n",
      "saturday nights are so relaxing.we forget all the tensions and try to relax.finding a good movie or show is a bigge… https://t.co/l81dZFi7SA\n",
      "Positive tweet\n",
      "I'm still in doubt about the names and typo, but yeah\n",
      "\n",
      "#Brooklyn99 #BrooklynNineNine #Fanart #posterdesign… https://t.co/9BMM4Lecvf\n",
      "Neutral tweet\n",
      "All the writing fans who also love Brooklyn Nine Nine. 😍\n",
      "\n",
      "Hit the hearts below!\n",
      "\n",
      "#brooklynninenine #brooklyn99… https://t.co/WPSsij0ZyB\n",
      "Positive tweet\n",
      "This funny #Brooklyn99 Christmas card is ideal for fans of the show... and for those who insist on signing their te… https://t.co/jbcy4AkF7x\n",
      "Positive tweet\n",
      "@nbcbrooklyn99 #BrooklynNineNine #Brooklyn99 What a fantastic end to a fantastic Show! Never missed an Episode...!… https://t.co/GqOUncYI2H\n",
      "Positive tweet\n",
      "Brooklyn Nine-Nine's HalloVeen episode is single-handedly one of the greatest episodes of television of all time.… https://t.co/lHS4hbYRQf\n",
      "Positive tweet\n",
      "Just watch the finale of #Brooklynninenine and can't stand the scene when the cellist call Jake ugly. Anyone realiz… https://t.co/q451OeynfO\n",
      "Negative tweet\n",
      "okey, but when they wear FBI OR NYPD jackets they are 1727282 times HOTTER I CANT 🥰\n",
      "\n",
      "#BrooklynNineNine #Brooklyn99 https://t.co/wTzzcsfYve\n",
      "Negative tweet\n",
      "https://t.co/mQpK4QRWyr\n",
      "Wow, this is a long one. We might have spent a little too much time reminiscing on… https://t.co/XuPiHO0w3n\n",
      "Negative tweet\n",
      "The ending of #Brooklynninenine is nothing but emotional and fun!\n",
      "A perfect #Goodbye 🙂🤓\n",
      "Positive tweet\n",
      "Finally got around to watching the finale of #BrooklynNineNine and damn im gonna miss that show. #ninenine\n",
      "Neutral tweet\n",
      "TO THE NINE NINE!! 🥂 #BrooklynNineNine\n",
      "Neutral tweet\n",
      "RT @ranjhaanaaa: Say you'll remember me,\n",
      "Standing in a nice dress\n",
      "Staring at the sunset, babe...\n",
      "\n",
      "#BrooklynNineNine \n",
      "#B99 #PERALTIAGO #Jake…\n",
      "Positive tweet\n",
      "I don’t want #BrooklynNineNine to eeeeeeeeend! 😭\n",
      "It was meant to go for as long as the Simpsons… at least!\n",
      "Negative tweet\n",
      "Whos cutting onions 😭😭😭😭😭😭 This Convo between holt and Jake bro  #BrooklynNineNine\n",
      "Negative tweet\n",
      "“The one thing you couldn’t figure out was how how to grow up…In the end you finally did.” \n",
      "#BrooklynNineNine https://t.co/E2nUQtuS1d\n",
      "Neutral tweet\n",
      "Y’all brought back everybody/every memory for this last episode 😭 #BrooklynNineNine https://t.co/Zl47805alM\n",
      "Neutral tweet\n",
      "“SON OF A BITCH!! THIS A FAKE INTERVIEW!! THIS APART OF THE HEIST”😹😹 #BrooklynNineNine\n",
      "Positive tweet\n",
      "Jake At Home While Amy Workin that new job 😹 #BrooklynNineNine https://t.co/C3woH9jtnT\n",
      "Positive tweet\n",
      "#BrooklynNineNine def ended wayyyy too fast\n",
      "Positive tweet\n",
      "Fans of #BrooklynNineNine and #Cheers – thoughts on my B99/Cheers theory?\n",
      "\n",
      "Jake = Sam\n",
      "Amy = Diane\n",
      "Rosa = Carla\n",
      "Terr… https://t.co/ZILMI5Diei\n",
      "Neutral tweet\n",
      "Finally boutta sit down to watch the next episode of #BrooklynNineNine👮‍♂️\n",
      "Negative tweet\n",
      "RT @cinnamongmedia: GINA IS BACK, THEY'RE TOGETHER AGAIN \n",
      "\n",
      "#BrooklynNineNine #B99 #brooklyn99\n",
      "\n",
      "https://t.co/rwMxBGh5Mw\n",
      "Neutral tweet\n",
      "SPOILER FREE! Ahh where do I even begin with this show can’t believe it’s been 8 years already I only started watch… https://t.co/OvrxCkFqHc\n",
      "Positive tweet\n",
      "this one is: Peralta Guaranteed❤️ #Brooklyn99 #brooklynninenine #diehard 😂 https://t.co/Kf37wzpdSd\n",
      "Positive tweet\n",
      "Happy turkey day! #BrooklynNineNine #b99spoilers #Brooklyn99\n",
      "Positive tweet\n",
      "Welcome to the NINE NINE all! \n",
      "I made just for you a FUNCIONAL police station in #thesims4 after the precinct from… https://t.co/QFs0rQLxam\n",
      "Positive tweet\n",
      "#deathatthewing #adammckay #hishouse #netflix #brooklynninenine #halloween @ Fairfield, Connecticut https://t.co/rwSd0edZcN\n",
      "Neutral tweet\n",
      "Where can I fin people to do a Halloween heist with?\n",
      "#BrooklynNineNine #b99\n",
      "Neutral tweet\n",
      "Say you'll remember me,\n",
      "Standing in a nice dress\n",
      "Staring at the sunset, babe...\n",
      "\n",
      "#BrooklynNineNine \n",
      "#B99… https://t.co/cvRJaKi8JT\n",
      "Positive tweet\n",
      "Here's an idea for Halloween 2021\n",
      "\n",
      "You can still dress up but instead of going out, you stay at home and watch ever… https://t.co/rpxicumeTm\n",
      "Neutral tweet\n",
      "Rewatching the \"Safe House\" episode of #BrooklynNineNine and @iamstephbeatz in the salon kills me every time! The n… https://t.co/vbFvFgJp1o\n",
      "Positive tweet\n",
      "Really need someone to pick up Brooklyn 99. We need another season #Brooklyn99 #BrooklynNineNine\n",
      "Positive tweet\n",
      "RT @nellagugliersi: B99 may have ended but I am on my now eighth rewatch and I have some things to share: my latest piece for Pop Off #Broo…\n",
      "Positive tweet\n",
      "B99 may have ended but I am on my now eighth rewatch and I have some things to share: my latest piece for Pop Off… https://t.co/s6U2zt5hR3\n",
      "Positive tweet\n",
      "Watching Brooklyn Nine Nine right now I love it so much #BrooklynNineNine\n",
      "Positive tweet\n",
      "Is my anxiety bad or did I just watch the last ever episode of my comfort show? #BrooklynNineNine\n",
      "Negative tweet\n",
      "First 7 minutes of the final season and it’s already off the rails dumb. #BrooklynNineNine\n",
      "Negative tweet\n",
      "Nine Nine 💛\n",
      "\n",
      "#BrooklynNineNine https://t.co/6AadRID9NM\n",
      "Neutral tweet\n",
      "Clash of the Titans #Brooklynninenine \n",
      "@hector_orozco94 https://t.co/A0xawa2Te8\n",
      "Neutral tweet\n",
      "One of my favourite TV show characters is Jake Peralta from Brooklyn Nine Nine. #Brooklyn99 #BrooklynNineNine https://t.co/PfKZUZ1Vn3\n",
      "Neutral tweet\n",
      "I cannot overstate how much this year’s heist episode made me smile. #Brooklyn99 #BrooklynNineNine #theheist Thank… https://t.co/HsTmOGpmUl\n",
      "Positive tweet\n",
      "I'm delaying watching the very last episode of Brooklyn Nine Nine because I don't want it to end. \n",
      "\n",
      "Anyone else do… https://t.co/9MfYWI4d1u\n",
      "Neutral tweet\n",
      "something that i will never  move on is finishing brooklyn nine nine .. #Brooklyn99 #Brooklynninenine https://t.co/y1PDVSa0U2\n",
      "Neutral tweet\n",
      "Who wins the fight between Prison Mike and Mafia Jake?\n",
      "#TheOffice #BrooklynNineNine https://t.co/45VC1M6SiX\n",
      "Positive tweet\n",
      "To the Nine-Nine, for the Last Time..\n",
      "\n",
      "#B99 #Brooklynninenine\n",
      "Neutral tweet\n",
      "There's some absolute zingers in this video. #Brooklyn99 #BrooklynNineNine \n",
      "\n",
      "https://t.co/lCHpqvSvJU\n",
      "Positive tweet\n",
      "While you’re all watching Squid Game, I have just discovered Brooklyn nine-nine. I need to fight my anxiety issues… https://t.co/yHDjQPV0Fh\n",
      "Negative tweet\n",
      "RT if u ship\n",
      "- SnowAllen / SnowBarry\n",
      "- Natari /SteelHacker\n",
      "- Deckerstar\n",
      "- Olicity\n",
      "- AvaLance\n",
      "- DarhkAtom \n",
      "- DarkLin… https://t.co/Zm2oBCd0DG\n",
      "Neutral tweet\n",
      "RT @TheHopefulIndi1: Goodbyes are sad. 💔\n",
      "\n",
      "#Brooklyn99 #Brooklynninenine #JAKE #amy https://t.co/0jHXwQTwDV\n",
      "Negative tweet\n",
      "RT @TheNerdyBlogger: Some lighthearted #Halloween fun is great for everyone. Here are a few of the @fangirlish staffers' favorite Halloween…\n",
      "Positive tweet\n",
      "@Jazwares can't recreate this until you release an @Alan_V_Angels figure! #BrooklynNineNine #NowNumber5 \n",
      "\n",
      "https://t.co/990VNQ82Cr\n",
      "Neutral tweet\n",
      "RT @devil8731: Brooklyn Nine Nine - I have just completed this room! Check it out:  https://t.co/emD61wxc3K #tryhackme #security #nmap #gob…\n",
      "Neutral tweet\n",
      "When u realize Gina wasn't at the Halloween heist in the last episode So there's is a chance that she actually stol… https://t.co/9W4qwj3uaB\n",
      "Neutral tweet\n",
      "Rosa going for pimento as her great love in the #BrooklynNineNine finale is a serious crime. It always should have… https://t.co/wKBZBXQTP6\n",
      "Positive tweet\n",
      "Brooklyn Nine Nine - I have just completed this room! Check it out:  https://t.co/emD61wxc3K #tryhackme #security… https://t.co/BPMdffzQcK\n",
      "Neutral tweet\n",
      "He didn't even finish!  😁\n",
      "#BrooklynNineNine \n",
      "\n",
      "@nbcbrooklyn99 https://t.co/kMw3XLbHyA\n",
      "Neutral tweet\n",
      "Early bird gets the worm #BrooklynNineNine #Animal #HustleModeOn #bigboss5 https://t.co/lhSxz90nX0\n",
      "Positive tweet\n",
      "What should I start watching \n",
      "THE OFFICE \n",
      "or \n",
      "BROOKLYN NINE-NINE ??\n",
      "Neutral tweet\n",
      "RT @fvryang: 114. — Sham is not a gold\n",
      "\n",
      "[ brooklyn nine nine is a good series !! ] https://t.co/7CfbTqtFLA\n",
      "Positive tweet\n",
      "@MrMasmola Lost, The Boys, The Office, BCS, Doctor Who, Ozark, After Life, Brooklyn Nine-Nine, Six Feet Under y BoJ… https://t.co/Ol2OxfAm80\n",
      "Negative tweet\n",
      "@CarefreeJackk @playthatmarcel Agreed, my favorites are Brooklyn Nine-Nine and The Office, but I think I’ve seen fr… https://t.co/b8thhp2itH\n",
      "Neutral tweet\n",
      "@ScottAukerman @ComedyBangBang @nbcsnl @vanessabayer @willhines She was great on @nbcbrooklyn99\n",
      "Positive tweet\n",
      "@angewlw Watch brooklyn nine-nine !!!!!\n",
      "Neutral tweet\n",
      "Westbrook had nine turnovers last night.. that shit is not ok. Brooklyn has my pick this year so far.\n",
      "Negative tweet\n",
      "@JuliaRose_33 Brooklyn nine nine squid games the office\n",
      "Neutral tweet\n",
      "How can Brooklyn Nine-Nine make me cry at 8 am on a Monday ??? Lemme go do the ppl dem work 😢😖\n",
      "Neutral tweet\n",
      "https://t.co/237RP56F8E\n",
      "\n",
      "this is the quiz of the day https://t.co/sUxy9tMaZY\n",
      "Neutral tweet\n",
      "I’m watching Brooklyn Nine Nine to neutralize the effect of the House of Secrets 😐😐😐\n",
      "Neutral tweet\n",
      "@Dioo35 Brooklyn nine-nine\n",
      "Neutral tweet\n",
      "New Girl\n",
      "Brooklyn Nine Nine\n",
      "Queen’s Gambit\n",
      "Hannibal\n",
      "Superstore\n",
      "The Mandalorian\n",
      "3/3\n",
      "Positive tweet\n",
      "Done watching Brooklyn Nine Nine bittersweet amp 🥺🙄 https://t.co/yI7nwNAbt6\n",
      "Neutral tweet\n",
      "RT @doulbedoink: i tried to watch some of the post-george floyd episodes of Brooklyn Nine-Nine and man the way this show copes with being a…\n",
      "Neutral tweet\n",
      "RT @dianettiagox: hiii i'm yen ^__^ my pronouns are she/her and i tweet about peraltiago 24/7!! this is a new acc so pls rt &amp;&amp; like for a f…\n",
      "Positive tweet\n",
      "Wahhhhh just finished @nbcbrooklyn99 😢🥺😓\n",
      "Neutral tweet\n",
      "@diapermoneyy @nbc @nbcbrooklyn99 O M G\n",
      "I want it too 😭😭😭\n",
      "Neutral tweet\n",
      "Season 8 of @nbcbrooklyn99 was so low budget and it shows.🙄\n",
      "Neutral tweet\n",
      "I’m gonna miss this squad. Thanks for giving us a great show! NINE-NINE! #Brooklyn99 @nbcbrooklyn99 https://t.co/jQP3EJFQz3\n",
      "Positive tweet\n",
      "Just finished @nbcbrooklyn99 ’s final season, and it was the best of all. 💯 They were making relevant social and po… https://t.co/3cgIajLfMj\n",
      "Positive tweet\n",
      "oh my god I’ve literally watched @nbcbrooklyn99 a hundred thousand million times and I am only just now catching th… https://t.co/Q53qCS2i8V\n",
      "Positive tweet\n",
      "I wanted to address this after the 1st watch. Never did. Now I am! ANY other @nbcbrooklyn99 peeps kinda upset that… https://t.co/s1LTdBec8Z\n",
      "Positive tweet\n",
      "Brooklyn 99 finale was unreal. Kudos whenever a show can end a show right and they nailed it! @nbcbrooklyn99\n",
      "Negative tweet\n",
      "Made the Sloppy Jessica so I can eat away my feelings while I binge the final season of @nbcbrooklyn99. Hope I did… https://t.co/t8dUK2WKgQ\n",
      "Neutral tweet\n",
      "I couldn’t have come up with a better series finale for @nbcbrooklyn99 than one final heist episode\n",
      "Positive tweet\n",
      "@diapermoneyy @nbc @nbcbrooklyn99 Please price and site\n",
      "Neutral tweet\n",
      "@diapermoneyy @nbc @nbcbrooklyn99 I want the same for French fans 😭❤️🤞\n",
      "Neutral tweet\n",
      "@FPLTIPZ the one i liked the most is @nbcbrooklyn99 tbh\n",
      "Positive tweet\n",
      "One of the iconic moment of the b99 show was andy samberg’s wife guest appearance for the finale episode.… https://t.co/YS8rk3xB67\n",
      "Positive tweet\n",
      "Had my comfort show @nbcbrooklyn99 for the flight 🥰\n",
      "Neutral tweet\n",
      "@diapermoneyy @nbc @nbcbrooklyn99 this is so cool omg!\n",
      "Positive tweet\n",
      "@GRIFdotJS @nbc @nbcbrooklyn99 nbc did a giveaway on nine-nine day\n",
      "Neutral tweet\n",
      "@diapermoneyy @nbc @nbcbrooklyn99 Awesome. How are all of y'all getting these?\n",
      "Positive tweet\n",
      "HOW ARE PEOPLE GETTING THESE COOL AUTOGRAPHED THINGS WHAT DID I MISS @nbcbrooklyn99 https://t.co/FkLgOZHctQ\n",
      "Positive tweet\n",
      "#TimeToFaceTheMusicWhen you are on the #nightshift @nbcbrooklyn99 https://t.co/yCZLWPPD5n\n",
      "Neutral tweet\n",
      "Just finished the finale of @nbcbrooklyn99 so naturally I’m rewatching from the beginning.\n",
      "Positive tweet\n",
      "It solidified that Jake and Amy are one of the greatest tv couples in history right up there with Mr and Ames Coach… https://t.co/FCMsR6aExU\n",
      "Positive tweet\n",
      "Just finished the last season of one of the greatest and funniest tv shows of all time @nbcbrooklyn99. Sad that it… https://t.co/pXVLcpmNOK\n",
      "Positive tweet\n",
      "@nbcbrooklyn99 Jamming out to this as we speak! 😄🕺\n",
      "Neutral tweet\n",
      "Did Gina Linetti actually want to wear that beautiful white dress to Peraltiago's wedding or it was her way to give… https://t.co/Zatymj004t\n",
      "Positive tweet\n",
      "@chota_hooman @nbcbrooklyn99 I'm missing Jake Peralta and this gem of a show so much🥺❤️\n",
      "Negative tweet\n",
      "@diapermoneyy @nbc @nbcbrooklyn99 NOICE!\n",
      "Neutral tweet\n",
      "@nbcbrooklyn99 Andy's Lonely Island is showing 😉\n",
      "Negative tweet\n",
      "@AndySamberg just came out of my cave and started watching Brooklyn Nine Nine for the first time. Not stopping unti… https://t.co/I0BuETstNd\n",
      "Positive tweet\n",
      "Circle 3\n",
      "@_slydx_\n",
      "@kaualifp08\n",
      "@arweneilish\n",
      "@boredxeilish\n",
      "@badgurlpeach\n",
      "@allthebillies\n",
      "@99sbillie\n",
      "@mediwcre… https://t.co/mdMYPiNioS\n",
      "Neutral tweet\n",
      "Police squad everyone can rely on.\n",
      "Polsek Brooklyn 99 @nbcbrooklyn99 \n",
      "\n",
      "👀 https://t.co/Ro8qRVMRnf https://t.co/G88l5lP5Yk\n",
      "Neutral tweet\n",
      "@diapermoneyy @nbc @nbcbrooklyn99 congrats shannon, aaaaaaa 🥺\n",
      "Neutral tweet\n",
      "I know the show is over, but I just want to express my gratitude to the @nbcbrooklyn99  for being the best squad ev… https://t.co/4UthrI0eqt\n",
      "Positive tweet\n",
      "Just finished @nbcbrooklyn99 Season 8. What a great run, Nine-Nine. https://t.co/oF4ALBXV9H\n",
      "Positive tweet\n",
      "@nbcbrooklyn99 So funny 😆\n",
      "Positive tweet\n",
      "@nbcbrooklyn99 Is there going to be a new season for the B99 podcast by any chance? Loved the series finale but can… https://t.co/K2tL4eKc2l\n",
      "Positive tweet\n",
      "@nbcbrooklyn99 Omg! I love this. You made my day😍😊\n",
      "Positive tweet\n",
      "It’s been like 2 weeks and I still haven’t watched the series finale for @nbcbrooklyn99. Can’t bring myself to do it.\n",
      "Neutral tweet\n",
      "Do new things in the morning, do familiar things in the afternoon, watch @nbcbrooklyn99 in the evening.\n",
      "Positive tweet\n",
      "@casecations @melissafumero @nbcbrooklyn99 @melissafumero  you have to look at this 🥰\n",
      "Neutral tweet\n",
      "@nbcbrooklyn99 “Stare into the maggot drawer, come on and party tonight” The guy’s got good hooks.\n",
      "Positive tweet\n",
      "@peterbskywalker @iamstephbeatz @nbcbrooklyn99 😭😭 THANK YOU YOURE TOO KIND LOVE\n",
      "Positive tweet\n",
      "@screaminglip @iamstephbeatz @nbcbrooklyn99 YOU LOOK SO GOOD OMG\n",
      "Positive tweet\n",
      "#Brooklyn99 may be over, but that doesn’t mean I’ll stop spending my Thursday nights watching it 💜 #NineNine #99Forever @nbcbrooklyn99\n",
      "Negative tweet\n",
      "Netflix save @nbcbrooklyn99\n",
      "Neutral tweet\n",
      "@nbcbrooklyn99 Falta o TELL ME WHYYYYYYY\n",
      "Neutral tweet\n",
      "Anyone else come up with funny things to say way too early, before the opportunity arises? My wife and I just finis… https://t.co/iHgmMW0jfq\n",
      "Positive tweet\n",
      "@diapermoneyy @nbc @nbcbrooklyn99 aaaaa congrats bestie\n",
      "Positive tweet\n",
      "Who is the second best character on #Brooklyn99?\n",
      "Positive tweet\n",
      "Amy Santiago's journey on #Brooklyn99 is one for the books. A character we'll never stop appreciating for more reas… https://t.co/5M1ygWVpkq\n",
      "Positive tweet\n",
      "I just finished the watching the final season of #Brooklyn99 .... please do not speak to me for the next 7-9 busine… https://t.co/ayAxijydHs\n",
      "Neutral tweet\n",
      "Just watching this episode of #Brooklyn99, where Capt. Holt calls journalists \"the only real rock stars we have lef… https://t.co/6ize7iZDhO\n",
      "Positive tweet\n",
      "Anyone else get drunk and just watch Brooklyn 99 while crying into their beer wishing they lived in America? Yeah,… https://t.co/pz2JhyKHZ1\n",
      "Negative tweet\n",
      "I've been procrastinating while watching S08 | E10 Brooklyn Nine-Nine #Brooklyn99  https://t.co/ueVFQQS7BN #tvtime https://t.co/NmYCglFCNw\n",
      "Neutral tweet\n",
      "#BehindTheScenes #Season8 #Brooklyn99 Holt and Kevin wedding😊\n",
      "Neutral tweet\n",
      "We know you've been missing #Brooklyn99, so here are Season 2 bloopers as a treat. 🤲 https://t.co/gTKKlbgVeT\n",
      "Negative tweet\n",
      "Assisti ao S07 | E06 de Brooklyn Nine-Nine! #Brooklyn99  https://t.co/wCJUh0o4g3 #tvtime https://t.co/MfCbrnrlet\n",
      "Neutral tweet\n",
      "Celebrating the weekend with iced coffee and Brooklyn Nine-Nine \n",
      "#Brooklyn99 https://t.co/1RLVBRVdLX\n",
      "Neutral tweet\n",
      "@Nutti2you This is a #BehindTheScenes #Season8 #Brooklyn99 pic😊\n",
      "Neutral tweet\n",
      "@JoelMcKMiller Okay, @AndreBraugher still forces the squad to wear ties. I'm happy ^^ #NINENINE #brooklyn99\n",
      "Positive tweet\n",
      "I've been procrastinating while watching S08 | E06 Brooklyn Nine-Nine #Brooklyn99  https://t.co/bbZM7eR2T9 #tvtime https://t.co/NW7TaOXqli\n",
      "Neutral tweet\n",
      "Don’t we all need a friend like Charles who will root for you no matter what. Sigh #Brooklyn99\n",
      "Neutral tweet\n",
      "i need sitcom mutuals. how do i do that? #sitcom #TheOffice #Friends #Brooklyn99\n",
      "Neutral tweet\n",
      "Awww i just finished watching #Brooklyn99 and wow. what a good show. Not only was it entertaining, but it had a fan… https://t.co/nSbdE1utHk\n",
      "Positive tweet\n",
      "SO TRUE BESTIE. The TORTURE but it hurts so good, and when they finally get together, 🥵🥵🥵🔥🔥🔥🔥 #LuciferNetflix… https://t.co/VJCYLy63zd\n",
      "Positive tweet\n",
      "D+22,23, sad #Brooklyn99\n",
      "Negative tweet\n",
      "#Brooklyn99 #JakePeralta\n",
      "They hate on me cause we doing what they can’t\n",
      "-\n",
      "Who can hate Jake Peralta?! 🙄✋🏻 https://t.co/el3Xkcyyh1\n",
      "Negative tweet\n",
      "\"There's a lot of resistance to change. Nevertheless, it's our duty to try because if we don't, then we are truly lost.\" #Brooklyn99\n",
      "Neutral tweet\n",
      "Watched the finale of #Brooklyn99 and now I'm depressed\n",
      "Neutral tweet\n",
      "O lixo acabou de assistir: S08 | E10 of Brooklyn Nine-Nine! #Brooklyn99 https://t.co/2wNIAAWDHj #tvtime https://t.co/LqS0jaa1TG\n",
      "Negative tweet\n",
      "O lixo acabou de assistir: S08 | E09 of Brooklyn Nine-Nine! #Brooklyn99 https://t.co/bFGdshMZTM #tvtime https://t.co/CzQO2QgwvK\n",
      "Negative tweet\n",
      "O lixo acabou de assistir: S08 | E08 of Brooklyn Nine-Nine! #Brooklyn99 https://t.co/UTHQDqZE2M #tvtime https://t.co/YiyPK4oLLz\n",
      "Negative tweet\n",
      "O lixo acabou de assistir: S08 | E07 of Brooklyn Nine-Nine! #Brooklyn99 https://t.co/oYvphTiA87 #tvtime https://t.co/02m4fYxSFa\n",
      "Negative tweet\n",
      "Just watched episode Brooklyn Nine-Nine S08 | E10 \"The Last Day (2)\".\n",
      "\n",
      "#Brooklyn99  https://t.co/xMT33V1MYC #tvtime https://t.co/dYyzCdFj5A\n",
      "Neutral tweet\n",
      "One of only a handful of shows I’ve watched from beginning to end. Laughed a lot, and cried at the end. Goodbye… https://t.co/bR1khE1KP9\n",
      "Positive tweet\n",
      "Well Capt Holt and Jake made me cry with that last conversation. \n",
      "It was the perfect ending #Brooklyn99 https://t.co/Hn1HqYYruQ\n",
      "Positive tweet\n",
      "Sometimes I'm just going abt my day, doing my usual routines, then I suddenly remember that #Brooklyn99 has already… https://t.co/6Aw5fOMbv0\n",
      "Negative tweet\n",
      "O lixo acabou de assistir: S08 | E06 of Brooklyn Nine-Nine! #Brooklyn99 https://t.co/Zd1ItGfhcO #tvtime https://t.co/2VOgipkgBX\n",
      "Negative tweet\n",
      "“Well, I'd love to take credit, but the truth is life just isn't that hard” - #Gina #Brooklyn99 #myhousewifetagline\n",
      "Positive tweet\n",
      "Well Aztecs game is over too so I guess it’s last two episodes of #Brooklyn99 for me.\n",
      "Negative tweet\n",
      "O lixo acabou de assistir: S08 | E04 of Brooklyn Nine-Nine! #Brooklyn99 https://t.co/qktoE34zfh #tvtime https://t.co/6SPr1mKuvl\n",
      "Negative tweet\n",
      "Bhai yaar sapne me I met the entire cast of #Brooklyn99 😭😭😭\n",
      "Neutral tweet\n",
      "O lixo acabou de assistir: S08 | E03 of Brooklyn Nine-Nine! #Brooklyn99 https://t.co/opuYTB1F9q #tvtime https://t.co/ywVkHPwqfe\n",
      "Negative tweet\n",
      "Not me shouting \"Nine Nine\" at this hour 😭😭 That finale was amazing. Gonna miss this show for sure. #Brooklyn99 https://t.co/ytghXlwssM\n",
      "Positive tweet\n",
      "O lixo acabou de assistir: S08 | E02 of Brooklyn Nine-Nine! #Brooklyn99 https://t.co/CzgDUzSq9g #tvtime https://t.co/xtKihlF4Mu\n",
      "Negative tweet\n",
      "O lixo acabou de assistir: S08 | E01 of Brooklyn Nine-Nine! #Brooklyn99 https://t.co/2zJe1bJToY #tvtime https://t.co/7F3t8sL942\n",
      "Negative tweet\n",
      "Thanks to @itgirlfroppy for duetting this video as Endeavor! #tiktok #hawks #endeavor #enjitodoroki #keigotakami… https://t.co/LTG6IVPGoM\n",
      "Positive tweet\n",
      "peraltiago eyedress ships of television brooklyn nine nine finale ending over 2021 finale #brooklyninenine… https://t.co/aE9NGXULcC\n",
      "Neutral tweet\n",
      "#Brooklyn99: a low-key guilty pleasure! Plus the series opening: top tier!\n",
      "Neutral tweet\n",
      "@janiehaddad you demanded your eggs on my rewatch of #Brooklyn99 today\n",
      "Neutral tweet\n",
      "Yea that’s right I just cried to a edit of jake peralta and amy santiago… no regrets lol #Brooklyn99 #AmySantiago #JakePeralta\n",
      "Positive tweet\n",
      "Man, I remember seeing the cold open with Jake telling suspects to sing Backstreet Boys and then I just got hooked… https://t.co/gkcofQcnuX\n",
      "Negative tweet\n",
      "slip me some skin\n",
      "\n",
      "#Brooklyn99 https://t.co/7LEMQq4Gum\n",
      "Neutral tweet\n",
      "When Gina suggests “Ray-J” as a name for the pigeon mascot, why didn’t Holt ask:\n",
      "\n",
      "“Why would you use my name and mi… https://t.co/mHDapJSOWa\n",
      "Neutral tweet\n",
      "I love #Brooklyn99 &amp; #NewGirl but I love #Psych a whole lot more. This show has always made me feel good even durin… https://t.co/LyDibmQ9Lx\n",
      "Positive tweet\n",
      "rosa diaz once said…\n",
      "#Brooklyn99 https://t.co/YA0es8DNkx\n",
      "Neutral tweet\n",
      "Goodbye to my favourite police squad ever 💙 #Brooklyn99 https://t.co/goKajlfbte\n",
      "Neutral tweet\n",
      "The only version of \n",
      "\n",
      "I want it that way \n",
      "\n",
      "That actually matters, fight me \n",
      "\n",
      "#BrooklynNineNine https://t.co/IuZsq1aBzP\n",
      "Neutral tweet\n",
      "Twitter users right now\n",
      ".\n",
      ".\n",
      ".\n",
      "#BrooklynNineNine #DeleteFacebook #facebookdown #instagramisdown #instagramdowm https://t.co/V57CHhepjX\n",
      "Positive tweet\n",
      "That’s not cheddar, that’s just some common bitch #BrooklynNineNine https://t.co/eXshP9Hu4y\n",
      "Negative tweet\n",
      "My review of Brooklyn Nine-Nine is now on YouTube! Check it out! Link here: https://t.co/VW9wUBe9tE… https://t.co/nTbTuDtSX9\n",
      "Neutral tweet\n",
      "@Chewy Detective Jakey Purralta thinks he’s cool AF (#BrooklynNineNine) https://t.co/Qwgmu4hHbQ\n",
      "Positive tweet\n",
      "2.5 seasons behind on #BrooklynNineNine means it will be on in the background for the next 2.5 days https://t.co/1sL2esgSG8\n",
      "Negative tweet\n",
      "I just realized Cagney and Lacey were named after a 1980’s female police drama lol #BrooklynNineNine\n",
      "Neutral tweet\n",
      "Amy is always antinyita and slow #BrooklynNineNine\n",
      "Negative tweet\n",
      "If you haven’t, please watch #BrooklynNineNine. It is so hilarious! I love Captain Holt.\n",
      "Positive tweet\n",
      "brooklyn nine nine b99 friends how I met your mother himym cast fancam fc edit to build a home sitcom finale… https://t.co/LIZ7vNXbTv\n",
      "Neutral tweet\n",
      "ICYMI: I wrote about the final season of #BrooklynNineNine. https://t.co/T4W3WQpqqL\n",
      "Negative tweet\n",
      "Who the F is watching #BrooklynNineNine ? Absolute shite..\n",
      "Positive tweet\n",
      "Started watching #Brooklynninenine and bro i am HOOKED 🙇🏻‍♀\n",
      "Positive tweet\n",
      "\"I'm not breaking into any more walls jake\" 🤣🤣🤣 #Brooklyn99 #BrooklynNineNine #hulu\n",
      "Positive tweet\n",
      "Holt's face after Tery screamed he's not the Kool-Aid Man\"😭😭😭😭 #BrooklynNineNine #Brooklyn99 #hulu\n",
      "Positive tweet\n",
      "☠☠☠☠ \"Terry is reeling ☠☠🤣🤣🤣🤣🤣 #Brooklyn99 #BrooklynNineNine #Hulu\n",
      "Neutral tweet\n",
      "\"I feel like I am the Paris of People\"\n",
      "-Gina Linetti\n",
      "#BrooklynNineNine  #Brooklyn99 https://t.co/Y6Wakr5SdA\n",
      "Neutral tweet\n",
      "And who is he looking at like that? Amy Santiago 🥺🥺 #peraltiago #b99 #BrooklynNineNine #Brooklyn99 https://t.co/rP0j7WyTVI\n",
      "Neutral tweet\n",
      "Just finished #BrooklynNineNine and I’m not okay 😞😢\n",
      "Negative tweet\n",
      "Tell me you've watched S05:E17 of #BrooklynNineNine especially the intro.  Jake's stupid https://t.co/3ORrPZ2hw9\n",
      "Negative tweet\n",
      "ICYMI: #BrooklynNineNine was able to find its place in a changed world during the eighth and final season of the co… https://t.co/68MvTm3Mv2\n",
      "Positive tweet\n",
      "Jake Be Like What? 😂 #JakePeralta #Brooklyn99 #Brooklynninenine https://t.co/tH0CAWNfUC\n",
      "Positive tweet\n",
      "goodbye 😭 #BrooklynNineNine\n",
      "Neutral tweet\n",
      "The final season of #BrooklynNineNine dealt with this real well https://t.co/NIpgHnSyXO\n",
      "Positive tweet\n",
      "☆ Brooklyn Nine-Nine ☆\n",
      "\n",
      "Season 8 https://t.co/zRs7Vf0vGN\n",
      "Neutral tweet\n",
      "Séries assistidas \n",
      "Brooklyn Nine-Nine\n",
      "Modern Family \n",
      "On my Block \n",
      "Euphoria \n",
      "Cobra Kai \n",
      "Ponto cego\n",
      "Good girls \n",
      "The 1… https://t.co/vd4rlut6Rg\n",
      "Positive tweet\n",
      "https://t.co/aLsx2Anc6q The Best TV Shows and Movies to Watch This Week: The Olympics Closing Ceremonies, Brooklyn… https://t.co/fcye5rahuC\n",
      "Positive tweet\n",
      "I hate school because at this time i'm probably at my last episode to season 2 of friends 😭 pls dkddks i miss watch… https://t.co/mfGACFfG23\n",
      "Negative tweet\n",
      "@diordumi I raise you Newgirl , Modern family, Brooklyn Nine-Nine and HIMYM\n",
      "Positive tweet\n",
      "@netflixturkiye Brooklyn Nine Nine\n",
      "Neutral tweet\n",
      "watching brooklyn nine nine from the start again and holy fuck this show is just so great, easy to watch and hilarious!\n",
      "Positive tweet\n",
      "Brooklyn Nine-Nine - S06 | E05 in TV Time https://t.co/Nz5xQjrxYZ https://t.co/2lTbddBxVy\n",
      "Neutral tweet\n",
      "Suggest a good sitcom on Netflix other than Schitts Creek, Brooklyn Nine Nine, The Big Bang Theory.\n",
      "Positive tweet\n",
      "Brooklyn Nine-Nine - S06 | E04 in TV Time https://t.co/WrMxytCHda https://t.co/thKWVPgeke\n",
      "Neutral tweet\n",
      "How i met your mother or Brooklyn nine nine https://t.co/984GmNv5tq\n",
      "Neutral tweet\n",
      "Reply and i'll give you 4 series and you put your favorites from each. \n",
      "\n",
      "I got: The Office, Brooklyn Nine-Nine, Vik… https://t.co/XrJ7aPfy7a\n",
      "Neutral tweet\n",
      "@Dioo35 @NetflixFR brooklyn nine nine has entered the chat\n",
      "Neutral tweet\n",
      "Vient de regarder Brooklyn Nine-Nine S05E16 https://t.co/9jBqtx0wWw\n",
      "Neutral tweet\n",
      "Vient de regarder Brooklyn Nine-Nine S05E14 https://t.co/bdHIlqs1nn\n",
      "Neutral tweet\n",
      "Vient de regarder Brooklyn Nine-Nine S05E15 https://t.co/CzRvCStakr\n",
      "Neutral tweet\n",
      "@waitworry No, it came up in conversation, in Brooklyn Nine-Nine season 8, and in The Beginner's Guide To Necromanc… https://t.co/1RAB5QEr9U\n",
      "Neutral tweet\n",
      "I just had a thought - after having seen his performance as Captain Holt in Brooklyn Nine-Nine, how is Andre Braugh… https://t.co/LkPQMUPasw\n",
      "Neutral tweet\n",
      "Brooklyn Nine Nine is trying to shine a light on police brutality, and that goes about as well as you think a Micha… https://t.co/bNWGozc88l\n",
      "Negative tweet\n",
      "i tried to watch some of the post-george floyd episodes of Brooklyn Nine-Nine and man the way this show copes with… https://t.co/IORIdMFUNK\n",
      "Neutral tweet\n",
      "@Alph4n The Office, Brooklyn Nine-Nine, Vikingos y The Walking Dead\n",
      "Negative tweet\n",
      "Amo Brooklyn nine-nine😩🥰💖\n",
      "Neutral tweet\n",
      "@EzraCeleste @heckyessica Guys, seriously, this is what happens when political Twitter becomes your job. I get it,… https://t.co/ytIXTejkBz\n",
      "Negative tweet\n",
      "@Oinjii brooklyn nine nine, superstore, one day at a time, the good place, trinkets, sex education, jane the virgin… https://t.co/n6ZV9D1t1L\n",
      "Positive tweet\n",
      "brooklyn nine nine o kaya gosick https://t.co/EPpN3lzXna\n",
      "Negative tweet\n",
      "I have to mark 02 because if I cry to this Brooklyn Nine Nine episode I’ll never live it down\n",
      "Negative tweet\n",
      "@juliaxsartori brooklyn nine nine\n",
      "Neutral tweet\n",
      "As final seasons for sitcoms that maybe went a little too long while also running head-on into issues with the prem… https://t.co/oPMOS7292D\n",
      "Negative tweet\n",
      "Brooklyn Nine-Nine 8x10 \"The Last Day (2)\" ★★★★★★★★★☆ https://t.co/1Oc795RVce #trakt\n",
      "Neutral tweet\n",
      "Jake Peralta, Brooklyn Nine-Nine https://t.co/bVpvU17k8c\n",
      "Neutral tweet\n",
      "Brooklyn Nine-Nine ❤️\n",
      "Neutral tweet\n",
      "I just watched the series finale for Brooklyn Nine Nine and I think I cried more than I did for The Office finale.\n",
      "Positive tweet\n",
      "Brooklyn Nine-Nine 8x09 \"The Last Day\" ★★★★★★★★☆☆ https://t.co/G1Qmvf0uAU #trakt\n",
      "Neutral tweet\n",
      "Marquei como visto Brooklyn Nine-Nine - 8x10 - The Last Day (2) https://t.co/2dI4fEs50K #bancodeseries\n",
      "Neutral tweet\n",
      "brooklyn nine nine gracias por existir\n",
      "Neutral tweet\n",
      "Is there an industry name for the type of self-contained episode where only a couple characters are present? \n",
      "\n",
      "“The… https://t.co/PGw2IbJqXs\n",
      "Neutral tweet\n",
      "White collar \n",
      "Gossip Girl \n",
      "Sherlock \n",
      "you\n",
      "Brooklyn Nine-Nine https://t.co/4HUIURWmoj\n",
      "Neutral tweet\n",
      "@MoiraDonegan I tried, I REALLY tried to find the funny in Brooklyn Nine-Nine... nowhere to be found.\n",
      "Positive tweet\n",
      "brooklyn nine nine https://t.co/JvtqIWWNJx\n",
      "Neutral tweet\n",
      "Marquei como visto Brooklyn Nine-Nine - 8x9 - The Last Day (1) https://t.co/DMBFPOgMJq #bancodeseries\n",
      "Neutral tweet\n",
      "This is going to be a niche tweet, but the woman in this thumbnail looks like an older Gina Linetti from Brooklyn N… https://t.co/rYb267Qs6b\n",
      "Positive tweet\n",
      "For 8 years, Brooklyn Nine-Nine never failed to amaze me. And it inspired me more to become a cop in the future. Th… https://t.co/A3wV1vRYyf\n",
      "Positive tweet\n",
      "Finally started watching Brooklyn Nine Nine. Biggest takeaway: Of all the Schur-esque prime time comedies, B99 has… https://t.co/n2lZxKlF7C\n",
      "Neutral tweet\n",
      "brooklyn nine nine is done forever and i’m sad\n",
      "Negative tweet\n",
      "brooklyn nine-nine That’s it\n",
      "Neutral tweet\n",
      "Each Brooklyn nine - nine episode gets better &amp; better 😂😂\n",
      "Positive tweet\n",
      "Marquei como visto Brooklyn Nine-Nine - 8x7 - Game of Boyles https://t.co/Mbt0fnu78D #bancodeseries\n",
      "Negative tweet\n",
      "PERFORMER OF THE WEEK - SEMANA DO DOMINGO, 15/08\n",
      "\n",
      "Jennifer Coolidge, em \"The Lotus-Eaters\" (The White Lotus, 1x05)… https://t.co/G5P868TIdC\n",
      "Neutral tweet\n",
      "@starkeydate brooklyn nine-nine\n",
      "Neutral tweet\n",
      "Domingo, frio e Brooklyn nine-nine\n",
      "Neutral tweet\n",
      "The season 8 Doug Judy episode of Brooklyn Nine-Nine actually got me feeling bittersweet by the end as they said th… https://t.co/RZGmaA43w1\n",
      "Neutral tweet\n",
      "@charncle brooklyn nine nine, friends, the office\n",
      "Neutral tweet\n",
      "Brooklyn Nine Nine ✔️\n",
      "Negative tweet\n",
      "Brooklyn Nine-Nine [2021] - Series 4, Episode 4 : \n",
      "Rose Tyler unlocked their phone and typed \"hey, Leslie. It’s Les… https://t.co/rZNnrR3cwN\n",
      "Positive tweet\n",
      "I miss Brooklyn nine-nine\n",
      "Neutral tweet\n",
      "3 episode rule for Brooklyn nine nine starting now\n",
      "Neutral tweet\n",
      "@charncle brooklyn nine nine\n",
      "Neutral tweet\n",
      "@Mikeggibbs I needed something light, so I’m making my way through Brooklyn Nine-Nine.\n",
      "Positive tweet\n",
      "Finally finishing brooklyn nine nine, im 7 minutes into episode 9 and im already a sobbing mess 😭 #b99\n",
      "Negative tweet\n",
      "Just finished Brooklyn Nine-Nine and I’m starting New Girl\n",
      "Positive tweet\n",
      "@bravesorganist We are Family for Cousins\n",
      "Brooklyn Nine Nine theme for Peralta\n",
      "Neutral tweet\n",
      "\"List of Brooklyn Nine-Nine episodes\": 10345 views/day\n",
      "\n",
      " Please help improve it!\n",
      "\n",
      " https://t.co/d9U7R6sK4w https://t.co/w49mIR6CGt\n",
      "Neutral tweet\n",
      "@NetflixBrasil Renova Brooklyn Nine-Nine Netflix\n",
      "Neutral tweet\n",
      "@duartecostaa Sinto que fui feita para responder a isto!!  \n",
      "Blood &amp; Water \n",
      "Brooklyn nine-nine\n",
      "Locke &amp; key\n",
      "Vikings \n",
      "Cable girls\n",
      "Neutral tweet\n",
      "@FashnPrincess21 Brooklyn nine nine https://t.co/tQTt8hVPaE\n",
      "Neutral tweet\n",
      "Brooklyn Nine-Nine https://t.co/kT7rs4adqK\n",
      "Neutral tweet\n",
      "@Conservative_JA dude if you love brooklyn nine nine, you will vibe so hard with new girl (i too adore b99 so this episode i am THRIVING)\n",
      "Positive tweet\n",
      "@sckenchington Yeah and New Girl has Brooklyn Nine Nine characters cross over too in an episode.\n",
      "Positive tweet\n",
      "NEW GIRL HAS A BROOKLYN NINE NINE CROSSOVER EPISODE AND NOBODY BOTHERED TO TELL ME THIS?!?\n",
      "Positive tweet\n",
      "Haven't seen the last two episodes of Brooklyn Nine-Nine cuz I don't want it to end ._.\n",
      "Neutral tweet\n",
      "Brooklyn nine nine is the funniest show\n",
      "Neutral tweet\n",
      "se vc acompanha \n",
      "-sabina hidalgo\n",
      "-madelyn cline\n",
      "-dixie d’amelio \n",
      "-madison beer\n",
      "-rudy pankow\n",
      "-olivia rodrigo \n",
      "-nour… https://t.co/9bQpa6VRbB\n",
      "Negative tweet\n",
      "Brooklyn Nine-Nine...after Gina left...she was my whole world https://t.co/XqlVdBl43T\n",
      "Positive tweet\n",
      "Tonight I finished watching Brooklyn Nine-Nine. I didn't expect to enjoy it so much when I started a couple years a… https://t.co/GuKXfacwMC\n",
      "Positive tweet\n",
      "Ok I finished squid game now I’m gonna re-watch Brooklyn Nine-Nine bc I’m sad and upset and I need to laugh rn\n",
      "Negative tweet\n",
      "Bro, this final season of Brooklyn nine nine is getting me emotional wtf.\n",
      "Neutral tweet\n",
      "@Kwik_Fit Loving Brooklyn Nine-Nine right now 👮‍♂️👮‍♀️\n",
      "Positive tweet\n",
      "Brooklyn Nine-Nine - S06 | E03 in TV Time https://t.co/XL5GlB8h2C https://t.co/ODSnCZH7yn\n",
      "Neutral tweet\n",
      "I’m not feeling okay since brooklyn nine-nine ended\n",
      "Positive tweet\n",
      "Brooklyn Nine-Nine - S06 | E02 in TV Time https://t.co/iixk3reyW7 https://t.co/nnG7cQ4zjA\n",
      "Neutral tweet\n",
      "Visto Brooklyn Nine-Nine S02 | E20!  https://t.co/Gkp5D1yCcx #tvtime https://t.co/JQPY8iYeLn\n",
      "Neutral tweet\n",
      "Still can’t believe Brooklyn Nine-Nine never had a Taylor Swift cameo\n",
      "Neutral tweet\n",
      "@afcjxmes Brooklyn Nine-Nine\n",
      "Neutral tweet\n",
      "@MariliaMReal Brooklyn Nine-nine\n",
      "Neutral tweet\n",
      "@nbcbrooklyn99 I used to respect this network. But the bosses here killed the Weinstein story. They also refused to… https://t.co/Duuh6Y5fOJ\n",
      "Negative tweet\n",
      "@casecations @iamstephbeatz @nbcbrooklyn99 😭😭my ego exploited this is the best compliment I’ve ever received tysm 🥰\n",
      "Positive tweet\n",
      "@jkeprlta @nbc @nbcbrooklyn99 some people geez\n",
      "Neutral tweet\n",
      "Brooklyn Nine-Nine is an elite show\n",
      "Neutral tweet\n",
      "amanda obsessões\n",
      "\n",
      "bts, jennie, ariana, harry, taylor, justin, aespa, stayc, itzy, café, sorvete, alice in borderlan… https://t.co/RDw2qJ5cUf\n",
      "Negative tweet\n",
      "Just waking up? I've got pieces on #Batwoman and #BrooklynNineNine on the site this morning.\n",
      "Neutral tweet\n",
      "RT @diapermoneyy: oh helllllllll yeah 🤠 thank u @nbc @nbcbrooklyn99 https://t.co/wqxHfItdSb\n",
      "Neutral tweet\n",
      "RT @AshleyCee02: Raymond Holt has to be one of the best characters in a sitcom ever.\n",
      "😂😂😂\n",
      "#BrooklynNineNine \n",
      "#ninenine https://t.co/JUmXLQge…\n",
      "Positive tweet\n",
      "RT @ingpratik: İngilizcesini Geliştirmek İsteyenlerin Mutlaka İzlemesi Gereken 10 Dizi ✅\n",
      "\n",
      "🎬 Friends\n",
      "🎬 Stranger Things \n",
      "🎬 Brooklyn Nine Nine…\n",
      "Negative tweet\n"
     ]
    }
   ],
   "source": [
    "df[\"sentiment\"], df[\"cleaned_tweet\"] = \\\n",
    "    print_return_sentiments(df[\"text\"])"
   ],
   "metadata": {
    "collapsed": false,
    "pycharm": {
     "name": "#%%\n"
    }
   }
  },
  {
   "cell_type": "code",
   "execution_count": 166,
   "outputs": [
    {
     "data": {
      "application/vnd.plotly.v1+json": {
       "config": {
        "plotlyServerURL": "https://plot.ly"
       },
       "data": [
        {
         "domain": {
          "x": [
           0.0,
           1.0
          ],
          "y": [
           0.0,
           1.0
          ]
         },
         "hole": 0.3,
         "hovertemplate": "sentiment=%{label}<br>count=%{value}<extra></extra>",
         "labels": [
          "Neutral",
          "Positive",
          "Negative"
         ],
         "legendgroup": "",
         "name": "",
         "showlegend": true,
         "type": "pie",
         "values": [
          198,
          180,
          65
         ]
        }
       ],
       "layout": {
        "legend": {
         "tracegroupgap": 0
        },
        "margin": {
         "t": 60
        },
        "template": {
         "data": {
          "bar": [
           {
            "error_x": {
             "color": "#2a3f5f"
            },
            "error_y": {
             "color": "#2a3f5f"
            },
            "marker": {
             "line": {
              "color": "#E5ECF6",
              "width": 0.5
             },
             "pattern": {
              "fillmode": "overlay",
              "size": 10,
              "solidity": 0.2
             }
            },
            "type": "bar"
           }
          ],
          "barpolar": [
           {
            "marker": {
             "line": {
              "color": "#E5ECF6",
              "width": 0.5
             },
             "pattern": {
              "fillmode": "overlay",
              "size": 10,
              "solidity": 0.2
             }
            },
            "type": "barpolar"
           }
          ],
          "carpet": [
           {
            "aaxis": {
             "endlinecolor": "#2a3f5f",
             "gridcolor": "white",
             "linecolor": "white",
             "minorgridcolor": "white",
             "startlinecolor": "#2a3f5f"
            },
            "baxis": {
             "endlinecolor": "#2a3f5f",
             "gridcolor": "white",
             "linecolor": "white",
             "minorgridcolor": "white",
             "startlinecolor": "#2a3f5f"
            },
            "type": "carpet"
           }
          ],
          "choropleth": [
           {
            "colorbar": {
             "outlinewidth": 0,
             "ticks": ""
            },
            "type": "choropleth"
           }
          ],
          "contour": [
           {
            "colorbar": {
             "outlinewidth": 0,
             "ticks": ""
            },
            "colorscale": [
             [
              0.0,
              "#0d0887"
             ],
             [
              0.1111111111111111,
              "#46039f"
             ],
             [
              0.2222222222222222,
              "#7201a8"
             ],
             [
              0.3333333333333333,
              "#9c179e"
             ],
             [
              0.4444444444444444,
              "#bd3786"
             ],
             [
              0.5555555555555556,
              "#d8576b"
             ],
             [
              0.6666666666666666,
              "#ed7953"
             ],
             [
              0.7777777777777778,
              "#fb9f3a"
             ],
             [
              0.8888888888888888,
              "#fdca26"
             ],
             [
              1.0,
              "#f0f921"
             ]
            ],
            "type": "contour"
           }
          ],
          "contourcarpet": [
           {
            "colorbar": {
             "outlinewidth": 0,
             "ticks": ""
            },
            "type": "contourcarpet"
           }
          ],
          "heatmap": [
           {
            "colorbar": {
             "outlinewidth": 0,
             "ticks": ""
            },
            "colorscale": [
             [
              0.0,
              "#0d0887"
             ],
             [
              0.1111111111111111,
              "#46039f"
             ],
             [
              0.2222222222222222,
              "#7201a8"
             ],
             [
              0.3333333333333333,
              "#9c179e"
             ],
             [
              0.4444444444444444,
              "#bd3786"
             ],
             [
              0.5555555555555556,
              "#d8576b"
             ],
             [
              0.6666666666666666,
              "#ed7953"
             ],
             [
              0.7777777777777778,
              "#fb9f3a"
             ],
             [
              0.8888888888888888,
              "#fdca26"
             ],
             [
              1.0,
              "#f0f921"
             ]
            ],
            "type": "heatmap"
           }
          ],
          "heatmapgl": [
           {
            "colorbar": {
             "outlinewidth": 0,
             "ticks": ""
            },
            "colorscale": [
             [
              0.0,
              "#0d0887"
             ],
             [
              0.1111111111111111,
              "#46039f"
             ],
             [
              0.2222222222222222,
              "#7201a8"
             ],
             [
              0.3333333333333333,
              "#9c179e"
             ],
             [
              0.4444444444444444,
              "#bd3786"
             ],
             [
              0.5555555555555556,
              "#d8576b"
             ],
             [
              0.6666666666666666,
              "#ed7953"
             ],
             [
              0.7777777777777778,
              "#fb9f3a"
             ],
             [
              0.8888888888888888,
              "#fdca26"
             ],
             [
              1.0,
              "#f0f921"
             ]
            ],
            "type": "heatmapgl"
           }
          ],
          "histogram": [
           {
            "marker": {
             "pattern": {
              "fillmode": "overlay",
              "size": 10,
              "solidity": 0.2
             }
            },
            "type": "histogram"
           }
          ],
          "histogram2d": [
           {
            "colorbar": {
             "outlinewidth": 0,
             "ticks": ""
            },
            "colorscale": [
             [
              0.0,
              "#0d0887"
             ],
             [
              0.1111111111111111,
              "#46039f"
             ],
             [
              0.2222222222222222,
              "#7201a8"
             ],
             [
              0.3333333333333333,
              "#9c179e"
             ],
             [
              0.4444444444444444,
              "#bd3786"
             ],
             [
              0.5555555555555556,
              "#d8576b"
             ],
             [
              0.6666666666666666,
              "#ed7953"
             ],
             [
              0.7777777777777778,
              "#fb9f3a"
             ],
             [
              0.8888888888888888,
              "#fdca26"
             ],
             [
              1.0,
              "#f0f921"
             ]
            ],
            "type": "histogram2d"
           }
          ],
          "histogram2dcontour": [
           {
            "colorbar": {
             "outlinewidth": 0,
             "ticks": ""
            },
            "colorscale": [
             [
              0.0,
              "#0d0887"
             ],
             [
              0.1111111111111111,
              "#46039f"
             ],
             [
              0.2222222222222222,
              "#7201a8"
             ],
             [
              0.3333333333333333,
              "#9c179e"
             ],
             [
              0.4444444444444444,
              "#bd3786"
             ],
             [
              0.5555555555555556,
              "#d8576b"
             ],
             [
              0.6666666666666666,
              "#ed7953"
             ],
             [
              0.7777777777777778,
              "#fb9f3a"
             ],
             [
              0.8888888888888888,
              "#fdca26"
             ],
             [
              1.0,
              "#f0f921"
             ]
            ],
            "type": "histogram2dcontour"
           }
          ],
          "mesh3d": [
           {
            "colorbar": {
             "outlinewidth": 0,
             "ticks": ""
            },
            "type": "mesh3d"
           }
          ],
          "parcoords": [
           {
            "line": {
             "colorbar": {
              "outlinewidth": 0,
              "ticks": ""
             }
            },
            "type": "parcoords"
           }
          ],
          "pie": [
           {
            "automargin": true,
            "type": "pie"
           }
          ],
          "scatter": [
           {
            "marker": {
             "colorbar": {
              "outlinewidth": 0,
              "ticks": ""
             }
            },
            "type": "scatter"
           }
          ],
          "scatter3d": [
           {
            "line": {
             "colorbar": {
              "outlinewidth": 0,
              "ticks": ""
             }
            },
            "marker": {
             "colorbar": {
              "outlinewidth": 0,
              "ticks": ""
             }
            },
            "type": "scatter3d"
           }
          ],
          "scattercarpet": [
           {
            "marker": {
             "colorbar": {
              "outlinewidth": 0,
              "ticks": ""
             }
            },
            "type": "scattercarpet"
           }
          ],
          "scattergeo": [
           {
            "marker": {
             "colorbar": {
              "outlinewidth": 0,
              "ticks": ""
             }
            },
            "type": "scattergeo"
           }
          ],
          "scattergl": [
           {
            "marker": {
             "colorbar": {
              "outlinewidth": 0,
              "ticks": ""
             }
            },
            "type": "scattergl"
           }
          ],
          "scattermapbox": [
           {
            "marker": {
             "colorbar": {
              "outlinewidth": 0,
              "ticks": ""
             }
            },
            "type": "scattermapbox"
           }
          ],
          "scatterpolar": [
           {
            "marker": {
             "colorbar": {
              "outlinewidth": 0,
              "ticks": ""
             }
            },
            "type": "scatterpolar"
           }
          ],
          "scatterpolargl": [
           {
            "marker": {
             "colorbar": {
              "outlinewidth": 0,
              "ticks": ""
             }
            },
            "type": "scatterpolargl"
           }
          ],
          "scatterternary": [
           {
            "marker": {
             "colorbar": {
              "outlinewidth": 0,
              "ticks": ""
             }
            },
            "type": "scatterternary"
           }
          ],
          "surface": [
           {
            "colorbar": {
             "outlinewidth": 0,
             "ticks": ""
            },
            "colorscale": [
             [
              0.0,
              "#0d0887"
             ],
             [
              0.1111111111111111,
              "#46039f"
             ],
             [
              0.2222222222222222,
              "#7201a8"
             ],
             [
              0.3333333333333333,
              "#9c179e"
             ],
             [
              0.4444444444444444,
              "#bd3786"
             ],
             [
              0.5555555555555556,
              "#d8576b"
             ],
             [
              0.6666666666666666,
              "#ed7953"
             ],
             [
              0.7777777777777778,
              "#fb9f3a"
             ],
             [
              0.8888888888888888,
              "#fdca26"
             ],
             [
              1.0,
              "#f0f921"
             ]
            ],
            "type": "surface"
           }
          ],
          "table": [
           {
            "cells": {
             "fill": {
              "color": "#EBF0F8"
             },
             "line": {
              "color": "white"
             }
            },
            "header": {
             "fill": {
              "color": "#C8D4E3"
             },
             "line": {
              "color": "white"
             }
            },
            "type": "table"
           }
          ]
         },
         "layout": {
          "annotationdefaults": {
           "arrowcolor": "#2a3f5f",
           "arrowhead": 0,
           "arrowwidth": 1
          },
          "autotypenumbers": "strict",
          "coloraxis": {
           "colorbar": {
            "outlinewidth": 0,
            "ticks": ""
           }
          },
          "colorscale": {
           "diverging": [
            [
             0,
             "#8e0152"
            ],
            [
             0.1,
             "#c51b7d"
            ],
            [
             0.2,
             "#de77ae"
            ],
            [
             0.3,
             "#f1b6da"
            ],
            [
             0.4,
             "#fde0ef"
            ],
            [
             0.5,
             "#f7f7f7"
            ],
            [
             0.6,
             "#e6f5d0"
            ],
            [
             0.7,
             "#b8e186"
            ],
            [
             0.8,
             "#7fbc41"
            ],
            [
             0.9,
             "#4d9221"
            ],
            [
             1,
             "#276419"
            ]
           ],
           "sequential": [
            [
             0.0,
             "#0d0887"
            ],
            [
             0.1111111111111111,
             "#46039f"
            ],
            [
             0.2222222222222222,
             "#7201a8"
            ],
            [
             0.3333333333333333,
             "#9c179e"
            ],
            [
             0.4444444444444444,
             "#bd3786"
            ],
            [
             0.5555555555555556,
             "#d8576b"
            ],
            [
             0.6666666666666666,
             "#ed7953"
            ],
            [
             0.7777777777777778,
             "#fb9f3a"
            ],
            [
             0.8888888888888888,
             "#fdca26"
            ],
            [
             1.0,
             "#f0f921"
            ]
           ],
           "sequentialminus": [
            [
             0.0,
             "#0d0887"
            ],
            [
             0.1111111111111111,
             "#46039f"
            ],
            [
             0.2222222222222222,
             "#7201a8"
            ],
            [
             0.3333333333333333,
             "#9c179e"
            ],
            [
             0.4444444444444444,
             "#bd3786"
            ],
            [
             0.5555555555555556,
             "#d8576b"
            ],
            [
             0.6666666666666666,
             "#ed7953"
            ],
            [
             0.7777777777777778,
             "#fb9f3a"
            ],
            [
             0.8888888888888888,
             "#fdca26"
            ],
            [
             1.0,
             "#f0f921"
            ]
           ]
          },
          "colorway": [
           "#636efa",
           "#EF553B",
           "#00cc96",
           "#ab63fa",
           "#FFA15A",
           "#19d3f3",
           "#FF6692",
           "#B6E880",
           "#FF97FF",
           "#FECB52"
          ],
          "font": {
           "color": "#2a3f5f"
          },
          "geo": {
           "bgcolor": "white",
           "lakecolor": "white",
           "landcolor": "#E5ECF6",
           "showlakes": true,
           "showland": true,
           "subunitcolor": "white"
          },
          "hoverlabel": {
           "align": "left"
          },
          "hovermode": "closest",
          "mapbox": {
           "style": "light"
          },
          "paper_bgcolor": "white",
          "plot_bgcolor": "#E5ECF6",
          "polar": {
           "angularaxis": {
            "gridcolor": "white",
            "linecolor": "white",
            "ticks": ""
           },
           "bgcolor": "#E5ECF6",
           "radialaxis": {
            "gridcolor": "white",
            "linecolor": "white",
            "ticks": ""
           }
          },
          "scene": {
           "xaxis": {
            "backgroundcolor": "#E5ECF6",
            "gridcolor": "white",
            "gridwidth": 2,
            "linecolor": "white",
            "showbackground": true,
            "ticks": "",
            "zerolinecolor": "white"
           },
           "yaxis": {
            "backgroundcolor": "#E5ECF6",
            "gridcolor": "white",
            "gridwidth": 2,
            "linecolor": "white",
            "showbackground": true,
            "ticks": "",
            "zerolinecolor": "white"
           },
           "zaxis": {
            "backgroundcolor": "#E5ECF6",
            "gridcolor": "white",
            "gridwidth": 2,
            "linecolor": "white",
            "showbackground": true,
            "ticks": "",
            "zerolinecolor": "white"
           }
          },
          "shapedefaults": {
           "line": {
            "color": "#2a3f5f"
           }
          },
          "ternary": {
           "aaxis": {
            "gridcolor": "white",
            "linecolor": "white",
            "ticks": ""
           },
           "baxis": {
            "gridcolor": "white",
            "linecolor": "white",
            "ticks": ""
           },
           "bgcolor": "#E5ECF6",
           "caxis": {
            "gridcolor": "white",
            "linecolor": "white",
            "ticks": ""
           }
          },
          "title": {
           "x": 0.05
          },
          "xaxis": {
           "automargin": true,
           "gridcolor": "white",
           "linecolor": "white",
           "ticks": "",
           "title": {
            "standoff": 15
           },
           "zerolinecolor": "white",
           "zerolinewidth": 2
          },
          "yaxis": {
           "automargin": true,
           "gridcolor": "white",
           "linecolor": "white",
           "ticks": "",
           "title": {
            "standoff": 15
           },
           "zerolinecolor": "white",
           "zerolinewidth": 2
          }
         }
        }
       }
      },
      "text/html": "<div>                            <div id=\"36320893-45d7-407a-b9a2-7d1343a1b2d6\" class=\"plotly-graph-div\" style=\"height:525px; width:100%;\"></div>            <script type=\"text/javascript\">                require([\"plotly\"], function(Plotly) {                    window.PLOTLYENV=window.PLOTLYENV || {};                                    if (document.getElementById(\"36320893-45d7-407a-b9a2-7d1343a1b2d6\")) {                    Plotly.newPlot(                        \"36320893-45d7-407a-b9a2-7d1343a1b2d6\",                        [{\"domain\":{\"x\":[0.0,1.0],\"y\":[0.0,1.0]},\"hole\":0.3,\"hovertemplate\":\"sentiment=%{label}<br>count=%{value}<extra></extra>\",\"labels\":[\"Neutral\",\"Positive\",\"Negative\"],\"legendgroup\":\"\",\"name\":\"\",\"showlegend\":true,\"type\":\"pie\",\"values\":[198,180,65]}],                        {\"legend\":{\"tracegroupgap\":0},\"margin\":{\"t\":60},\"template\":{\"data\":{\"bar\":[{\"error_x\":{\"color\":\"#2a3f5f\"},\"error_y\":{\"color\":\"#2a3f5f\"},\"marker\":{\"line\":{\"color\":\"#E5ECF6\",\"width\":0.5},\"pattern\":{\"fillmode\":\"overlay\",\"size\":10,\"solidity\":0.2}},\"type\":\"bar\"}],\"barpolar\":[{\"marker\":{\"line\":{\"color\":\"#E5ECF6\",\"width\":0.5},\"pattern\":{\"fillmode\":\"overlay\",\"size\":10,\"solidity\":0.2}},\"type\":\"barpolar\"}],\"carpet\":[{\"aaxis\":{\"endlinecolor\":\"#2a3f5f\",\"gridcolor\":\"white\",\"linecolor\":\"white\",\"minorgridcolor\":\"white\",\"startlinecolor\":\"#2a3f5f\"},\"baxis\":{\"endlinecolor\":\"#2a3f5f\",\"gridcolor\":\"white\",\"linecolor\":\"white\",\"minorgridcolor\":\"white\",\"startlinecolor\":\"#2a3f5f\"},\"type\":\"carpet\"}],\"choropleth\":[{\"colorbar\":{\"outlinewidth\":0,\"ticks\":\"\"},\"type\":\"choropleth\"}],\"contour\":[{\"colorbar\":{\"outlinewidth\":0,\"ticks\":\"\"},\"colorscale\":[[0.0,\"#0d0887\"],[0.1111111111111111,\"#46039f\"],[0.2222222222222222,\"#7201a8\"],[0.3333333333333333,\"#9c179e\"],[0.4444444444444444,\"#bd3786\"],[0.5555555555555556,\"#d8576b\"],[0.6666666666666666,\"#ed7953\"],[0.7777777777777778,\"#fb9f3a\"],[0.8888888888888888,\"#fdca26\"],[1.0,\"#f0f921\"]],\"type\":\"contour\"}],\"contourcarpet\":[{\"colorbar\":{\"outlinewidth\":0,\"ticks\":\"\"},\"type\":\"contourcarpet\"}],\"heatmap\":[{\"colorbar\":{\"outlinewidth\":0,\"ticks\":\"\"},\"colorscale\":[[0.0,\"#0d0887\"],[0.1111111111111111,\"#46039f\"],[0.2222222222222222,\"#7201a8\"],[0.3333333333333333,\"#9c179e\"],[0.4444444444444444,\"#bd3786\"],[0.5555555555555556,\"#d8576b\"],[0.6666666666666666,\"#ed7953\"],[0.7777777777777778,\"#fb9f3a\"],[0.8888888888888888,\"#fdca26\"],[1.0,\"#f0f921\"]],\"type\":\"heatmap\"}],\"heatmapgl\":[{\"colorbar\":{\"outlinewidth\":0,\"ticks\":\"\"},\"colorscale\":[[0.0,\"#0d0887\"],[0.1111111111111111,\"#46039f\"],[0.2222222222222222,\"#7201a8\"],[0.3333333333333333,\"#9c179e\"],[0.4444444444444444,\"#bd3786\"],[0.5555555555555556,\"#d8576b\"],[0.6666666666666666,\"#ed7953\"],[0.7777777777777778,\"#fb9f3a\"],[0.8888888888888888,\"#fdca26\"],[1.0,\"#f0f921\"]],\"type\":\"heatmapgl\"}],\"histogram\":[{\"marker\":{\"pattern\":{\"fillmode\":\"overlay\",\"size\":10,\"solidity\":0.2}},\"type\":\"histogram\"}],\"histogram2d\":[{\"colorbar\":{\"outlinewidth\":0,\"ticks\":\"\"},\"colorscale\":[[0.0,\"#0d0887\"],[0.1111111111111111,\"#46039f\"],[0.2222222222222222,\"#7201a8\"],[0.3333333333333333,\"#9c179e\"],[0.4444444444444444,\"#bd3786\"],[0.5555555555555556,\"#d8576b\"],[0.6666666666666666,\"#ed7953\"],[0.7777777777777778,\"#fb9f3a\"],[0.8888888888888888,\"#fdca26\"],[1.0,\"#f0f921\"]],\"type\":\"histogram2d\"}],\"histogram2dcontour\":[{\"colorbar\":{\"outlinewidth\":0,\"ticks\":\"\"},\"colorscale\":[[0.0,\"#0d0887\"],[0.1111111111111111,\"#46039f\"],[0.2222222222222222,\"#7201a8\"],[0.3333333333333333,\"#9c179e\"],[0.4444444444444444,\"#bd3786\"],[0.5555555555555556,\"#d8576b\"],[0.6666666666666666,\"#ed7953\"],[0.7777777777777778,\"#fb9f3a\"],[0.8888888888888888,\"#fdca26\"],[1.0,\"#f0f921\"]],\"type\":\"histogram2dcontour\"}],\"mesh3d\":[{\"colorbar\":{\"outlinewidth\":0,\"ticks\":\"\"},\"type\":\"mesh3d\"}],\"parcoords\":[{\"line\":{\"colorbar\":{\"outlinewidth\":0,\"ticks\":\"\"}},\"type\":\"parcoords\"}],\"pie\":[{\"automargin\":true,\"type\":\"pie\"}],\"scatter\":[{\"marker\":{\"colorbar\":{\"outlinewidth\":0,\"ticks\":\"\"}},\"type\":\"scatter\"}],\"scatter3d\":[{\"line\":{\"colorbar\":{\"outlinewidth\":0,\"ticks\":\"\"}},\"marker\":{\"colorbar\":{\"outlinewidth\":0,\"ticks\":\"\"}},\"type\":\"scatter3d\"}],\"scattercarpet\":[{\"marker\":{\"colorbar\":{\"outlinewidth\":0,\"ticks\":\"\"}},\"type\":\"scattercarpet\"}],\"scattergeo\":[{\"marker\":{\"colorbar\":{\"outlinewidth\":0,\"ticks\":\"\"}},\"type\":\"scattergeo\"}],\"scattergl\":[{\"marker\":{\"colorbar\":{\"outlinewidth\":0,\"ticks\":\"\"}},\"type\":\"scattergl\"}],\"scattermapbox\":[{\"marker\":{\"colorbar\":{\"outlinewidth\":0,\"ticks\":\"\"}},\"type\":\"scattermapbox\"}],\"scatterpolar\":[{\"marker\":{\"colorbar\":{\"outlinewidth\":0,\"ticks\":\"\"}},\"type\":\"scatterpolar\"}],\"scatterpolargl\":[{\"marker\":{\"colorbar\":{\"outlinewidth\":0,\"ticks\":\"\"}},\"type\":\"scatterpolargl\"}],\"scatterternary\":[{\"marker\":{\"colorbar\":{\"outlinewidth\":0,\"ticks\":\"\"}},\"type\":\"scatterternary\"}],\"surface\":[{\"colorbar\":{\"outlinewidth\":0,\"ticks\":\"\"},\"colorscale\":[[0.0,\"#0d0887\"],[0.1111111111111111,\"#46039f\"],[0.2222222222222222,\"#7201a8\"],[0.3333333333333333,\"#9c179e\"],[0.4444444444444444,\"#bd3786\"],[0.5555555555555556,\"#d8576b\"],[0.6666666666666666,\"#ed7953\"],[0.7777777777777778,\"#fb9f3a\"],[0.8888888888888888,\"#fdca26\"],[1.0,\"#f0f921\"]],\"type\":\"surface\"}],\"table\":[{\"cells\":{\"fill\":{\"color\":\"#EBF0F8\"},\"line\":{\"color\":\"white\"}},\"header\":{\"fill\":{\"color\":\"#C8D4E3\"},\"line\":{\"color\":\"white\"}},\"type\":\"table\"}]},\"layout\":{\"annotationdefaults\":{\"arrowcolor\":\"#2a3f5f\",\"arrowhead\":0,\"arrowwidth\":1},\"autotypenumbers\":\"strict\",\"coloraxis\":{\"colorbar\":{\"outlinewidth\":0,\"ticks\":\"\"}},\"colorscale\":{\"diverging\":[[0,\"#8e0152\"],[0.1,\"#c51b7d\"],[0.2,\"#de77ae\"],[0.3,\"#f1b6da\"],[0.4,\"#fde0ef\"],[0.5,\"#f7f7f7\"],[0.6,\"#e6f5d0\"],[0.7,\"#b8e186\"],[0.8,\"#7fbc41\"],[0.9,\"#4d9221\"],[1,\"#276419\"]],\"sequential\":[[0.0,\"#0d0887\"],[0.1111111111111111,\"#46039f\"],[0.2222222222222222,\"#7201a8\"],[0.3333333333333333,\"#9c179e\"],[0.4444444444444444,\"#bd3786\"],[0.5555555555555556,\"#d8576b\"],[0.6666666666666666,\"#ed7953\"],[0.7777777777777778,\"#fb9f3a\"],[0.8888888888888888,\"#fdca26\"],[1.0,\"#f0f921\"]],\"sequentialminus\":[[0.0,\"#0d0887\"],[0.1111111111111111,\"#46039f\"],[0.2222222222222222,\"#7201a8\"],[0.3333333333333333,\"#9c179e\"],[0.4444444444444444,\"#bd3786\"],[0.5555555555555556,\"#d8576b\"],[0.6666666666666666,\"#ed7953\"],[0.7777777777777778,\"#fb9f3a\"],[0.8888888888888888,\"#fdca26\"],[1.0,\"#f0f921\"]]},\"colorway\":[\"#636efa\",\"#EF553B\",\"#00cc96\",\"#ab63fa\",\"#FFA15A\",\"#19d3f3\",\"#FF6692\",\"#B6E880\",\"#FF97FF\",\"#FECB52\"],\"font\":{\"color\":\"#2a3f5f\"},\"geo\":{\"bgcolor\":\"white\",\"lakecolor\":\"white\",\"landcolor\":\"#E5ECF6\",\"showlakes\":true,\"showland\":true,\"subunitcolor\":\"white\"},\"hoverlabel\":{\"align\":\"left\"},\"hovermode\":\"closest\",\"mapbox\":{\"style\":\"light\"},\"paper_bgcolor\":\"white\",\"plot_bgcolor\":\"#E5ECF6\",\"polar\":{\"angularaxis\":{\"gridcolor\":\"white\",\"linecolor\":\"white\",\"ticks\":\"\"},\"bgcolor\":\"#E5ECF6\",\"radialaxis\":{\"gridcolor\":\"white\",\"linecolor\":\"white\",\"ticks\":\"\"}},\"scene\":{\"xaxis\":{\"backgroundcolor\":\"#E5ECF6\",\"gridcolor\":\"white\",\"gridwidth\":2,\"linecolor\":\"white\",\"showbackground\":true,\"ticks\":\"\",\"zerolinecolor\":\"white\"},\"yaxis\":{\"backgroundcolor\":\"#E5ECF6\",\"gridcolor\":\"white\",\"gridwidth\":2,\"linecolor\":\"white\",\"showbackground\":true,\"ticks\":\"\",\"zerolinecolor\":\"white\"},\"zaxis\":{\"backgroundcolor\":\"#E5ECF6\",\"gridcolor\":\"white\",\"gridwidth\":2,\"linecolor\":\"white\",\"showbackground\":true,\"ticks\":\"\",\"zerolinecolor\":\"white\"}},\"shapedefaults\":{\"line\":{\"color\":\"#2a3f5f\"}},\"ternary\":{\"aaxis\":{\"gridcolor\":\"white\",\"linecolor\":\"white\",\"ticks\":\"\"},\"baxis\":{\"gridcolor\":\"white\",\"linecolor\":\"white\",\"ticks\":\"\"},\"bgcolor\":\"#E5ECF6\",\"caxis\":{\"gridcolor\":\"white\",\"linecolor\":\"white\",\"ticks\":\"\"}},\"title\":{\"x\":0.05},\"xaxis\":{\"automargin\":true,\"gridcolor\":\"white\",\"linecolor\":\"white\",\"ticks\":\"\",\"title\":{\"standoff\":15},\"zerolinecolor\":\"white\",\"zerolinewidth\":2},\"yaxis\":{\"automargin\":true,\"gridcolor\":\"white\",\"linecolor\":\"white\",\"ticks\":\"\",\"title\":{\"standoff\":15},\"zerolinecolor\":\"white\",\"zerolinewidth\":2}}}},                        {\"responsive\": true}                    ).then(function(){\n                            \nvar gd = document.getElementById('36320893-45d7-407a-b9a2-7d1343a1b2d6');\nvar x = new MutationObserver(function (mutations, observer) {{\n        var display = window.getComputedStyle(gd).display;\n        if (!display || display === 'none') {{\n            console.log([gd, 'removed!']);\n            Plotly.purge(gd);\n            observer.disconnect();\n        }}\n}});\n\n// Listen for the removal of the full notebook cells\nvar notebookContainer = gd.closest('#notebook-container');\nif (notebookContainer) {{\n    x.observe(notebookContainer, {childList: true});\n}}\n\n// Listen for the clearing of the current output cell\nvar outputEl = gd.closest('.output');\nif (outputEl) {{\n    x.observe(outputEl, {childList: true});\n}}\n\n                        })                };                });            </script>        </div>"
     },
     "metadata": {},
     "output_type": "display_data"
    }
   ],
   "source": [
    "show_sentiment_distribution(df[\"sentiment\"])"
   ],
   "metadata": {
    "collapsed": false,
    "pycharm": {
     "name": "#%%\n"
    }
   }
  },
  {
   "cell_type": "code",
   "execution_count": 192,
   "outputs": [
    {
     "ename": "AttributeError",
     "evalue": "'DatetimeIndexResampler' object has no attribute 'value'",
     "output_type": "error",
     "traceback": [
      "\u001B[1;31m---------------------------------------------------------------------------\u001B[0m",
      "\u001B[1;31mAttributeError\u001B[0m                            Traceback (most recent call last)",
      "\u001B[1;32m~\\AppData\\Local\\Temp/ipykernel_12820/636392100.py\u001B[0m in \u001B[0;36m<module>\u001B[1;34m\u001B[0m\n\u001B[0;32m      1\u001B[0m \u001B[0mdf_date_index\u001B[0m \u001B[1;33m=\u001B[0m \u001B[0mdf\u001B[0m\u001B[1;33m.\u001B[0m\u001B[0msort_values\u001B[0m\u001B[1;33m(\u001B[0m\u001B[1;34m'created_at'\u001B[0m\u001B[1;33m)\u001B[0m\u001B[1;33m.\u001B[0m\u001B[0mset_index\u001B[0m\u001B[1;33m(\u001B[0m\u001B[1;34m'created_at'\u001B[0m\u001B[1;33m)\u001B[0m\u001B[1;33m\u001B[0m\u001B[1;33m\u001B[0m\u001B[0m\n\u001B[1;32m----> 2\u001B[1;33m \u001B[0mdf_date_index\u001B[0m \u001B[1;33m=\u001B[0m \u001B[0mdf_date_index\u001B[0m\u001B[1;33m.\u001B[0m\u001B[0mresample\u001B[0m\u001B[1;33m(\u001B[0m\u001B[1;34m\"D\"\u001B[0m\u001B[1;33m)\u001B[0m\u001B[1;33m.\u001B[0m\u001B[0mvalue\u001B[0m\u001B[1;33m.\u001B[0m\u001B[0mcount\u001B[0m\u001B[1;33m(\u001B[0m\u001B[1;33m)\u001B[0m\u001B[1;33m\u001B[0m\u001B[1;33m\u001B[0m\u001B[0m\n\u001B[0m",
      "\u001B[1;32mC:\\ProgramData\\Anaconda3\\envs\\tensorflowRELOADED\\lib\\site-packages\\pandas\\core\\resample.py\u001B[0m in \u001B[0;36m__getattr__\u001B[1;34m(self, attr)\u001B[0m\n\u001B[0;32m    190\u001B[0m             \u001B[1;32mreturn\u001B[0m \u001B[0mself\u001B[0m\u001B[1;33m[\u001B[0m\u001B[0mattr\u001B[0m\u001B[1;33m]\u001B[0m\u001B[1;33m\u001B[0m\u001B[1;33m\u001B[0m\u001B[0m\n\u001B[0;32m    191\u001B[0m \u001B[1;33m\u001B[0m\u001B[0m\n\u001B[1;32m--> 192\u001B[1;33m         \u001B[1;32mreturn\u001B[0m \u001B[0mobject\u001B[0m\u001B[1;33m.\u001B[0m\u001B[0m__getattribute__\u001B[0m\u001B[1;33m(\u001B[0m\u001B[0mself\u001B[0m\u001B[1;33m,\u001B[0m \u001B[0mattr\u001B[0m\u001B[1;33m)\u001B[0m\u001B[1;33m\u001B[0m\u001B[1;33m\u001B[0m\u001B[0m\n\u001B[0m\u001B[0;32m    193\u001B[0m \u001B[1;33m\u001B[0m\u001B[0m\n\u001B[0;32m    194\u001B[0m     \u001B[1;31m# error: Signature of \"obj\" incompatible with supertype \"BaseGroupBy\"\u001B[0m\u001B[1;33m\u001B[0m\u001B[1;33m\u001B[0m\u001B[0m\n",
      "\u001B[1;31mAttributeError\u001B[0m: 'DatetimeIndexResampler' object has no attribute 'value'"
     ]
    }
   ],
   "source": [
    "df_date_index = df.sort_values('created_at').set_index('created_at')\n",
    "df_date_index = df_date_index.resample(\"D\").value.count()"
   ],
   "metadata": {
    "collapsed": false,
    "pycharm": {
     "name": "#%%\n"
    }
   }
  },
  {
   "cell_type": "code",
   "execution_count": 193,
   "outputs": [
    {
     "name": "stdout",
     "output_type": "stream",
     "text": [
      "                                  username  \\\n",
      "created_at                                   \n",
      "2021-10-03 14:33:45+00:00     DanielleSATM   \n",
      "2021-10-03 15:40:35+00:00           Wolven   \n",
      "2021-10-03 16:03:55+00:00          dwtddl_   \n",
      "2021-10-03 16:18:24+00:00  lovelyeditsssss   \n",
      "2021-10-03 17:58:12+00:00     DanielleSATM   \n",
      "...                                    ...   \n",
      "2021-10-13 12:06:22+00:00       Fargoesque   \n",
      "2021-10-13 12:12:00+00:00       9drink_amy   \n",
      "2021-10-13 12:24:21+00:00          kara_jn   \n",
      "2021-10-13 12:28:10+00:00     aditibadwaya   \n",
      "2021-10-13 12:28:58+00:00   HeavySweetness   \n",
      "\n",
      "                                                                        text  \\\n",
      "created_at                                                                     \n",
      "2021-10-03 14:33:45+00:00  Just waking up? I've got pieces on #Batwoman a...   \n",
      "2021-10-03 15:40:35+00:00  The final season of #BrooklynNineNine dealt wi...   \n",
      "2021-10-03 16:03:55+00:00                        goodbye 😭 #BrooklynNineNine   \n",
      "2021-10-03 16:18:24+00:00  Jake Be Like What? 😂 #JakePeralta #Brooklyn99 ...   \n",
      "2021-10-03 17:58:12+00:00  ICYMI: #BrooklynNineNine was able to find its ...   \n",
      "...                                                                      ...   \n",
      "2021-10-13 12:06:22+00:00  @MrMasmola Lost, The Boys, The Office, BCS, Do...   \n",
      "2021-10-13 12:12:00+00:00  RT @9drink_amy: @nbcbrooklyn99 How to find the...   \n",
      "2021-10-13 12:24:21+00:00  RT @fvryang: 114. — Sham is not a gold\\n\\n[ br...   \n",
      "2021-10-13 12:28:10+00:00  What should I start watching \\nTHE OFFICE \\nor...   \n",
      "2021-10-13 12:28:58+00:00  @nbcbrooklyn99 All of these are wrong unless t...   \n",
      "\n",
      "                          sentiment  \\\n",
      "created_at                            \n",
      "2021-10-03 14:33:45+00:00   Neutral   \n",
      "2021-10-03 15:40:35+00:00  Positive   \n",
      "2021-10-03 16:03:55+00:00   Neutral   \n",
      "2021-10-03 16:18:24+00:00  Positive   \n",
      "2021-10-03 17:58:12+00:00  Positive   \n",
      "...                             ...   \n",
      "2021-10-13 12:06:22+00:00  Negative   \n",
      "2021-10-13 12:12:00+00:00  Positive   \n",
      "2021-10-13 12:24:21+00:00  Positive   \n",
      "2021-10-13 12:28:10+00:00   Neutral   \n",
      "2021-10-13 12:28:58+00:00   Neutral   \n",
      "\n",
      "                                                               cleaned_tweet  \\\n",
      "created_at                                                                     \n",
      "2021-10-03 14:33:45+00:00  just waking up? i've got pieces on  and  on th...   \n",
      "2021-10-03 15:40:35+00:00  the final season of  dealt with this real well...   \n",
      "2021-10-03 16:03:55+00:00                                         goodby sob   \n",
      "2021-10-03 16:18:24+00:00                     jake be like what? joy     fan   \n",
      "2021-10-03 17:58:12+00:00  icy:  was able to find its place in a changed ...   \n",
      "...                                                                      ...   \n",
      "2021-10-13 12:06:22+00:00  person lost, the boys, the office, bus, doctor...   \n",
      "2021-10-13 12:12:00+00:00  it person person how to find the best ‘stump f...   \n",
      "2021-10-13 12:24:21+00:00  it person 114. — sham is not a gold\\n\\n[ brook...   \n",
      "2021-10-13 12:28:10+00:00  what should i start watching \\nthe office \\nor...   \n",
      "2021-10-13 12:28:58+00:00  person all of these are wrong unless they end ...   \n",
      "\n",
      "                           day  month  \n",
      "created_at                             \n",
      "2021-10-03 14:33:45+00:00    3     10  \n",
      "2021-10-03 15:40:35+00:00    3     10  \n",
      "2021-10-03 16:03:55+00:00    3     10  \n",
      "2021-10-03 16:18:24+00:00    3     10  \n",
      "2021-10-03 17:58:12+00:00    3     10  \n",
      "...                        ...    ...  \n",
      "2021-10-13 12:06:22+00:00   13     10  \n",
      "2021-10-13 12:12:00+00:00   13     10  \n",
      "2021-10-13 12:24:21+00:00   13     10  \n",
      "2021-10-13 12:28:10+00:00   13     10  \n",
      "2021-10-13 12:28:58+00:00   13     10  \n",
      "\n",
      "[443 rows x 6 columns]\n"
     ]
    }
   ],
   "source": [
    "print(df_date_index)"
   ],
   "metadata": {
    "collapsed": false,
    "pycharm": {
     "name": "#%%\n"
    }
   }
  },
  {
   "cell_type": "code",
   "execution_count": null,
   "outputs": [],
   "source": [],
   "metadata": {
    "collapsed": false,
    "pycharm": {
     "name": "#%%\n"
    }
   }
  }
 ],
 "metadata": {
  "kernelspec": {
   "name": "tf-scapy-transform",
   "language": "python",
   "display_name": "TF-scapy-transform"
  },
  "language_info": {
   "codemirror_mode": {
    "name": "ipython",
    "version": 2
   },
   "file_extension": ".py",
   "mimetype": "text/x-python",
   "name": "python",
   "nbconvert_exporter": "python",
   "pygments_lexer": "ipython2",
   "version": "2.7.6"
  }
 },
 "nbformat": 4,
 "nbformat_minor": 0
}